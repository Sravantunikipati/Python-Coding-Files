{
 "cells": [
  {
   "cell_type": "markdown",
   "id": "97a6727f",
   "metadata": {},
   "source": [
    "## Alphabet assignment- Lower case"
   ]
  },
  {
   "cell_type": "code",
   "execution_count": 21,
   "id": "8b3c51ed",
   "metadata": {},
   "outputs": [
    {
     "name": "stdout",
     "output_type": "stream",
     "text": [
      " * * * \n",
      "       *\n",
      "  * * * *  \n",
      " *      * \n",
      "  * * *  *  \n"
     ]
    }
   ],
   "source": [
    "x=1\n",
    "while x<=5:\n",
    "    if x==1 :\n",
    "        print(' * * * ')\n",
    "    elif x==2 :\n",
    "        print('       *')\n",
    "    elif x==5:\n",
    "        print('  * * *  *  ')\n",
    "    elif x==4:\n",
    "        print(' *      * ')\n",
    "    else:\n",
    "        print('  * * * *  ')\n",
    "    x=x+1"
   ]
  },
  {
   "cell_type": "code",
   "execution_count": 22,
   "id": "b6135ce9",
   "metadata": {},
   "outputs": [
    {
     "name": "stdout",
     "output_type": "stream",
     "text": [
      "*\n",
      "*\n",
      "* * *\n",
      "*    *\n",
      "* * *\n"
     ]
    }
   ],
   "source": [
    "x = 1\n",
    "while x<=5:\n",
    "    if x==1 or x==2 :\n",
    "        print('*')\n",
    "    elif x==3 or x==5:\n",
    "        print('* * *')\n",
    "    else:\n",
    "        print('*    *')\n",
    "    x = x+1"
   ]
  },
  {
   "cell_type": "code",
   "execution_count": 153,
   "id": "baa7916b",
   "metadata": {},
   "outputs": [
    {
     "name": "stdout",
     "output_type": "stream",
     "text": [
      "  * * *\n",
      "*\n",
      "*\n",
      "  * * *\n"
     ]
    }
   ],
   "source": [
    "x = 1\n",
    "while x <= 4:\n",
    "    if x == 1 or x == 4:\n",
    "        print('  * * *')\n",
    "    else:\n",
    "        print('*')\n",
    "    x = x+1"
   ]
  },
  {
   "cell_type": "code",
   "execution_count": 27,
   "id": "52b003cb",
   "metadata": {},
   "outputs": [
    {
     "name": "stdout",
     "output_type": "stream",
     "text": [
      "     *\n",
      "     *\n",
      " * * *\n",
      "*    *\n",
      " * * *\n"
     ]
    }
   ],
   "source": [
    "x=1\n",
    "while x<=5:\n",
    "    if x==1 or x==2:\n",
    "        print('     *')\n",
    "    elif x==3 or x==5:\n",
    "        print(' * * *')\n",
    "    else:\n",
    "        print('*    *')\n",
    "    x=x+1"
   ]
  },
  {
   "cell_type": "code",
   "execution_count": 54,
   "id": "e33e05f1",
   "metadata": {},
   "outputs": [
    {
     "name": "stdout",
     "output_type": "stream",
     "text": [
      "  * *  \n",
      "*     *\n",
      "* * * *    \n",
      "*      \n",
      " * * * \n"
     ]
    }
   ],
   "source": [
    "x = 1\n",
    "while x<=5:\n",
    "    if x==1 :\n",
    "        print('  * *  ')\n",
    "    elif x==4: \n",
    "        print('*      ')\n",
    "    elif x==2:\n",
    "        print('*     *')\n",
    "    elif x==5:\n",
    "        print(' * * * ')\n",
    "    else:\n",
    "        print('* * * *    ')\n",
    "    x+=1"
   ]
  },
  {
   "cell_type": "code",
   "execution_count": 67,
   "id": "fa3d1e2d",
   "metadata": {},
   "outputs": [
    {
     "name": "stdout",
     "output_type": "stream",
     "text": [
      "  * * \n",
      "*     *\n",
      "*\n",
      "* * * \n",
      "*\n",
      "*\n"
     ]
    }
   ],
   "source": [
    "x=1\n",
    "while x<=6:\n",
    "    if x==1:\n",
    "        print('  * * ')\n",
    "    elif x==2:\n",
    "        print('*     *')\n",
    "    elif x==4:\n",
    "        print('* * * ')\n",
    "    else:\n",
    "        print('*')\n",
    "    x+=1"
   ]
  },
  {
   "cell_type": "code",
   "execution_count": 74,
   "id": "61eeaacd",
   "metadata": {},
   "outputs": [
    {
     "name": "stdout",
     "output_type": "stream",
     "text": [
      " * * *\n",
      "*    *\n",
      " * * *\n",
      "     *\n",
      " * * \n"
     ]
    }
   ],
   "source": [
    "x = 1\n",
    "while x<=5:\n",
    "    if x==1:\n",
    "        print(' * * *')\n",
    "    elif x==2:\n",
    "        print('*    *')\n",
    "    elif x==3:\n",
    "        print(' * * *')\n",
    "    elif x==4:\n",
    "        print('     *')\n",
    "    else:\n",
    "        print(' * * ')\n",
    "    x +=1"
   ]
  },
  {
   "cell_type": "code",
   "execution_count": 75,
   "id": "3ec8a035",
   "metadata": {},
   "outputs": [
    {
     "name": "stdout",
     "output_type": "stream",
     "text": [
      "*\n",
      "*\n",
      "* * *\n",
      "*    *\n",
      "*    *\n"
     ]
    }
   ],
   "source": [
    "x = 1\n",
    "while x<=5:\n",
    "    if x==1 or x==2:\n",
    "        print('*')\n",
    "    elif x==3 :\n",
    "        print('* * *')\n",
    "    else:\n",
    "        print('*    *')\n",
    "    x=x+1"
   ]
  },
  {
   "cell_type": "code",
   "execution_count": 81,
   "id": "fff6eaa1",
   "metadata": {},
   "outputs": [
    {
     "name": "stdout",
     "output_type": "stream",
     "text": [
      "    *\n",
      "   ***\n",
      "    *  \n",
      "    *\n",
      "    *\n",
      "    *\n"
     ]
    }
   ],
   "source": [
    "x = 1\n",
    "while x<=6:\n",
    "    if x==1:\n",
    "        print('    *')\n",
    "    elif x==2:\n",
    "        print('   ***')\n",
    "    elif x==3:\n",
    "        print('    *  ')\n",
    "    else:\n",
    "        print('    *')\n",
    "    x+=1"
   ]
  },
  {
   "cell_type": "code",
   "execution_count": 88,
   "id": "16a61be2",
   "metadata": {},
   "outputs": [
    {
     "name": "stdout",
     "output_type": "stream",
     "text": [
      "     *\n",
      "     *\n",
      "     *\n",
      "*    *\n",
      "  * *\n"
     ]
    }
   ],
   "source": [
    "x = 1\n",
    "while x<=5:\n",
    "    if x==1 or x==2 or x==3:\n",
    "        print('     *')\n",
    "    elif x==4:\n",
    "        print('*    *')\n",
    "    else:\n",
    "        print('  * *')\n",
    "    x+=1"
   ]
  },
  {
   "cell_type": "code",
   "execution_count": 89,
   "id": "94ed8d90",
   "metadata": {},
   "outputs": [
    {
     "name": "stdout",
     "output_type": "stream",
     "text": [
      "*\n",
      "*\n",
      "*   *\n",
      "* *\n",
      "*   *\n"
     ]
    }
   ],
   "source": [
    "x = 1\n",
    "while x<=5:\n",
    "    if x==1 or x==2:\n",
    "        print('*')\n",
    "    elif x==3 or x==5:\n",
    "        print('*   *')\n",
    "    else:\n",
    "        print('* *')\n",
    "    x +=1"
   ]
  },
  {
   "cell_type": "code",
   "execution_count": 90,
   "id": "1be050a2",
   "metadata": {},
   "outputs": [
    {
     "name": "stdout",
     "output_type": "stream",
     "text": [
      "  *   \n",
      "  *   \n",
      "  *   \n",
      "  *   \n",
      "  *   \n"
     ]
    }
   ],
   "source": [
    "x = 1\n",
    "while x<=5:\n",
    "    if x==1 or x==2 or x==3 or x==4 or x==5:\n",
    "        print('  *   ')\n",
    "    x=x+1"
   ]
  },
  {
   "cell_type": "code",
   "execution_count": 95,
   "id": "f75f27b8",
   "metadata": {},
   "outputs": [
    {
     "name": "stdout",
     "output_type": "stream",
     "text": [
      " *    * \n",
      "*   *   *\n",
      "*   *   *\n"
     ]
    }
   ],
   "source": [
    "x =1\n",
    "while x<=3:\n",
    "    if x==1:\n",
    "        print(' *    * ')\n",
    "    elif x==2:\n",
    "        print('*   *   *')\n",
    "    else:\n",
    "        print('*   *   *')\n",
    "    x+=1"
   ]
  },
  {
   "cell_type": "code",
   "execution_count": 152,
   "id": "c30daa3e",
   "metadata": {},
   "outputs": [
    {
     "name": "stdout",
     "output_type": "stream",
     "text": [
      "  * *  \n",
      "*     *\n",
      "*     *\n",
      "*     *\n"
     ]
    }
   ],
   "source": [
    "x = 1\n",
    "while x<=4:\n",
    "    if x==1:\n",
    "        print('  * *  ')\n",
    "    else:\n",
    "        print('*     *')\n",
    "    x+=1"
   ]
  },
  {
   "cell_type": "code",
   "execution_count": 101,
   "id": "988a15ad",
   "metadata": {},
   "outputs": [
    {
     "name": "stdout",
     "output_type": "stream",
     "text": [
      " * * *\n",
      "*     *\n",
      "*     *\n",
      " * * *\n"
     ]
    }
   ],
   "source": [
    "x = 1\n",
    "while x<=4:\n",
    "    if x==1 or x==4:\n",
    "        print(' * * *')\n",
    "    else:\n",
    "        print('*     *')\n",
    "    \n",
    "    x+=1"
   ]
  },
  {
   "cell_type": "code",
   "execution_count": 104,
   "id": "4964bdd6",
   "metadata": {},
   "outputs": [
    {
     "name": "stdout",
     "output_type": "stream",
     "text": [
      "* * * \n",
      "*    *\n",
      "* * * \n",
      "*\n",
      "*\n"
     ]
    }
   ],
   "source": [
    "x = 1\n",
    "while x<=5:\n",
    "    if x==1 or x==3:\n",
    "        print('* * * ')\n",
    "    elif x == 2:\n",
    "        print('*    *')\n",
    "    else:\n",
    "        print('*')\n",
    "    x= x+1"
   ]
  },
  {
   "cell_type": "code",
   "execution_count": 143,
   "id": "98894a5a",
   "metadata": {},
   "outputs": [
    {
     "name": "stdout",
     "output_type": "stream",
     "text": [
      " * * *\n",
      "*    *\n",
      " * * *\n",
      "     *\n",
      "     *\n"
     ]
    }
   ],
   "source": [
    "x=1\n",
    "while x<=5:\n",
    "    if x==1 or x==3:\n",
    "        print(' * * *')\n",
    "    elif x==2 :\n",
    "        print('*    *')  \n",
    "    else:\n",
    "        print('     *')\n",
    "    x+=1"
   ]
  },
  {
   "cell_type": "code",
   "execution_count": 114,
   "id": "c2e9b558",
   "metadata": {},
   "outputs": [
    {
     "name": "stdout",
     "output_type": "stream",
     "text": [
      "*\n",
      "* * *\n",
      "*   *\n",
      "*\n",
      "*\n"
     ]
    }
   ],
   "source": [
    "x=1\n",
    "while x<=5:\n",
    "    if x==1 or x==4 or x==5:\n",
    "        print('*')\n",
    "    elif x==2 :\n",
    "        print('* * *')\n",
    "    else:\n",
    "        print('*   *')\n",
    "    x+=1"
   ]
  },
  {
   "cell_type": "code",
   "execution_count": 118,
   "id": "072e4034",
   "metadata": {},
   "outputs": [
    {
     "name": "stdout",
     "output_type": "stream",
     "text": [
      " * * * \n",
      "*     \n",
      "* * * \n",
      "     *\n",
      "* * * \n"
     ]
    }
   ],
   "source": [
    "x = 1\n",
    "while x<=5:\n",
    "    if x==1:\n",
    "        print(' * * * ')\n",
    "    elif x==2:\n",
    "        print('*     ')\n",
    "    elif x==4:\n",
    "        print('     *')\n",
    "    else:\n",
    "        print('* * * ')\n",
    "    x = x+1"
   ]
  },
  {
   "cell_type": "code",
   "execution_count": 123,
   "id": "92f6d952",
   "metadata": {},
   "outputs": [
    {
     "name": "stdout",
     "output_type": "stream",
     "text": [
      "*\n",
      "*\n",
      "* * *\n",
      "*    \n",
      " * * *\n"
     ]
    }
   ],
   "source": [
    "x=1\n",
    "while x<=5:\n",
    "    if x==1 or x==2:\n",
    "        print('*')\n",
    "    elif x==3:\n",
    "        print('* * *')\n",
    "    elif x==4:\n",
    "        print('*    ')\n",
    "    else:\n",
    "        print(' * * *')\n",
    "    x +=1"
   ]
  },
  {
   "cell_type": "code",
   "execution_count": 128,
   "id": "f85ea14b",
   "metadata": {},
   "outputs": [
    {
     "name": "stdout",
     "output_type": "stream",
     "text": [
      "*       *\n",
      "*       *\n",
      "*       *\n",
      " *  *  *  *\n"
     ]
    }
   ],
   "source": [
    "x = 1\n",
    "while x<=4:\n",
    "    if x==1 or x==2 or x==3:\n",
    "        print('*       *')\n",
    "    else:\n",
    "        print(' *  *  *  *')\n",
    "    \n",
    "    x = x+1"
   ]
  },
  {
   "cell_type": "code",
   "execution_count": 133,
   "id": "0782cdce",
   "metadata": {},
   "outputs": [
    {
     "name": "stdout",
     "output_type": "stream",
     "text": [
      "  *        * \n",
      "    *    *  \n",
      "       *   \n"
     ]
    }
   ],
   "source": [
    "x=1\n",
    "while x<=3:\n",
    "    \n",
    "    if x==1:\n",
    "        print('  *        * ')\n",
    "    elif x==2:\n",
    "        print('    *    *  ')\n",
    "    else:\n",
    "        print('       *   ')\n",
    "    x=x+1"
   ]
  },
  {
   "cell_type": "code",
   "execution_count": 136,
   "id": "a518ecd8",
   "metadata": {},
   "outputs": [
    {
     "name": "stdout",
     "output_type": "stream",
     "text": [
      "*  *  *\n",
      "*  *  *\n",
      " *   * \n"
     ]
    }
   ],
   "source": [
    "x=1\n",
    "while x<=3:\n",
    "    if x==1 or x==2:\n",
    "        print('*  *  *')\n",
    "    else:\n",
    "        print(' *   * ')\n",
    "    x+=1"
   ]
  },
  {
   "cell_type": "code",
   "execution_count": 137,
   "id": "078074a9",
   "metadata": {},
   "outputs": [
    {
     "name": "stdout",
     "output_type": "stream",
     "text": [
      "*   *\n",
      "  * \n",
      "*   *\n"
     ]
    }
   ],
   "source": [
    "x=1\n",
    "while x<=3:\n",
    "    if x==1 or x==3:\n",
    "        print('*   *')\n",
    "    else:\n",
    "        print('  * ')\n",
    "    x+=1"
   ]
  },
  {
   "cell_type": "code",
   "execution_count": 139,
   "id": "f73b0c08",
   "metadata": {},
   "outputs": [
    {
     "name": "stdout",
     "output_type": "stream",
     "text": [
      "*     *\n",
      "  *  *\n",
      "    * \n",
      " * *\n"
     ]
    }
   ],
   "source": [
    "x=1\n",
    "while x<=4:\n",
    "    if x==1:\n",
    "        print('*     *')\n",
    "    elif x==2:\n",
    "        print('  *  *')\n",
    "    elif x==3:\n",
    "        print('    * ')\n",
    "    else: \n",
    "        print(' * *')\n",
    "    x+=1"
   ]
  },
  {
   "cell_type": "code",
   "execution_count": 141,
   "id": "2f427e51",
   "metadata": {},
   "outputs": [
    {
     "name": "stdout",
     "output_type": "stream",
     "text": [
      "* * * *\n",
      "     *  \n",
      "  *   \n",
      "* * * *\n"
     ]
    }
   ],
   "source": [
    "x = 1\n",
    "while x<=4:\n",
    "    if x==1 or x==4:\n",
    "        print('* * * *')\n",
    "    elif x==2:\n",
    "        print('     *  ')\n",
    "    elif x==3:\n",
    "        print('  *   ')\n",
    "    else:\n",
    "        print(' *     ')\n",
    "    x=x+1\n",
    "    "
   ]
  },
  {
   "cell_type": "code",
   "execution_count": null,
   "id": "92340a36",
   "metadata": {},
   "outputs": [],
   "source": []
  }
 ],
 "metadata": {
  "kernelspec": {
   "display_name": "Python 3 (ipykernel)",
   "language": "python",
   "name": "python3"
  },
  "language_info": {
   "codemirror_mode": {
    "name": "ipython",
    "version": 3
   },
   "file_extension": ".py",
   "mimetype": "text/x-python",
   "name": "python",
   "nbconvert_exporter": "python",
   "pygments_lexer": "ipython3",
   "version": "3.11.3"
  }
 },
 "nbformat": 4,
 "nbformat_minor": 5
}
