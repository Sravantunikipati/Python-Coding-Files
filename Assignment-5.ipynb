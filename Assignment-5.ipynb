{
 "cells": [
  {
   "cell_type": "markdown",
   "id": "afafc9f1",
   "metadata": {},
   "source": [
    "## 1. Write a python program that accept two numbers from the user and calculate multiplication and divisiion."
   ]
  },
  {
   "cell_type": "code",
   "execution_count": 46,
   "id": "28831d56",
   "metadata": {},
   "outputs": [
    {
     "name": "stdout",
     "output_type": "stream",
     "text": [
      "Enter first number : 3\n",
      "Enter second number : 4\n",
      "Enter the operation * or / *\n",
      "3.0*4.0=12.0\n"
     ]
    }
   ],
   "source": [
    "num1 = float(input('Enter first number : '))\n",
    "num2 = float(input('Enter second number : '))\n",
    "operation = input('Enter the operation * or / ')\n",
    "if operation == '*':\n",
    "    print('{}*{}={}'.format(num1,num2,num1*num2))\n",
    "elif num2 == 0:\n",
    "    print('Cannot divide by zero')\n",
    "else:\n",
    "    print('{}/{}={}'.format(num1,num2,num1/num2))"
   ]
  },
  {
   "cell_type": "markdown",
   "id": "1ec35785",
   "metadata": {},
   "source": [
    "## 2. Write a python program to print the characters from a string that are present in even index."
   ]
  },
  {
   "cell_type": "code",
   "execution_count": 60,
   "id": "81458e63",
   "metadata": {},
   "outputs": [
    {
     "name": "stdout",
     "output_type": "stream",
     "text": [
      "Enter a string: helloworld\n",
      "hlool"
     ]
    }
   ],
   "source": [
    "my_string = input(\"Enter a string: \")\n",
    "\n",
    "for x in range(len(my_string)):\n",
    "    if x%2 == 0:\n",
    "        print(my_string[x],end='')\n"
   ]
  },
  {
   "cell_type": "code",
   "execution_count": 75,
   "id": "43f078e1",
   "metadata": {},
   "outputs": [
    {
     "name": "stdout",
     "output_type": "stream",
     "text": [
      "DTSINE"
     ]
    }
   ],
   "source": [
    "my_string = 'DATASCIENCE'\n",
    "\n",
    "for x in range(len(my_string)):\n",
    "    if x%2 == 0:\n",
    "        print(my_string[x],end='')\n"
   ]
  },
  {
   "cell_type": "markdown",
   "id": "6786c7bf",
   "metadata": {},
   "source": [
    "## 3. Write a python program to print the characters from a string that are present in odd index."
   ]
  },
  {
   "cell_type": "code",
   "execution_count": 69,
   "id": "1bd173b9",
   "metadata": {},
   "outputs": [
    {
     "name": "stdout",
     "output_type": "stream",
     "text": [
      "Enter a string: Hellopython\n",
      "elpto"
     ]
    }
   ],
   "source": [
    "my_string = input(\"Enter a string: \")\n",
    "\n",
    "for x in range(len(my_string)):\n",
    "    if x%2 != 0:\n",
    "        print(my_string[x],end='')\n"
   ]
  },
  {
   "cell_type": "code",
   "execution_count": 79,
   "id": "24f3d5b7",
   "metadata": {},
   "outputs": [
    {
     "name": "stdout",
     "output_type": "stream",
     "text": [
      "raifrig"
     ]
    }
   ],
   "source": [
    "my_string = 'Organicfarming'\n",
    "\n",
    "for x in range(len(my_string)):\n",
    "    if x%2 != 0:\n",
    "        print(my_string[x],end='')\n"
   ]
  },
  {
   "cell_type": "markdown",
   "id": "3693bba5",
   "metadata": {},
   "source": [
    "## 4. Write a python program which will print the sum of two numbers if the two numbers are even or it will print the difference of two numbers"
   ]
  },
  {
   "cell_type": "code",
   "execution_count": 86,
   "id": "ff9bf4fd",
   "metadata": {},
   "outputs": [
    {
     "name": "stdout",
     "output_type": "stream",
     "text": [
      "enter a number : 44\n",
      "enter a number : 43\n",
      "44.0 - 43.0 = 1.0\n"
     ]
    }
   ],
   "source": [
    "num1 = float(input('enter a number : '))\n",
    "num2 = float(input('enter a number : '))\n",
    "if num1 and num2 %2 == 0:\n",
    "    print('{} + {} = {}'.format(num1,num2,num1+num2))\n",
    "else:\n",
    "    print('{} - {} = {}'.format(num1,num2,num1-num2))"
   ]
  },
  {
   "cell_type": "markdown",
   "id": "bc304dab",
   "metadata": {},
   "source": [
    "## 5. Write a python program to convert all the even indexd characters to upper "
   ]
  },
  {
   "cell_type": "code",
   "execution_count": 3,
   "id": "4bf4a1bf",
   "metadata": {},
   "outputs": [
    {
     "name": "stdout",
     "output_type": "stream",
     "text": [
      " AmBuLaNcE\n"
     ]
    }
   ],
   "source": [
    "x = 'ambulance'\n",
    "y = ' '\n",
    "for z in range(0,len(x)):\n",
    "    if z%2 == 0:\n",
    "        y= y+x[z].upper()\n",
    "    else:\n",
    "        y = y+x[z].lower()\n",
    "print(y)\n",
    "    "
   ]
  },
  {
   "cell_type": "code",
   "execution_count": 4,
   "id": "48af93e8",
   "metadata": {},
   "outputs": [
    {
     "name": "stdout",
     "output_type": "stream",
     "text": [
      "Enter a string : annamayya\n",
      " AnNaMaYyA\n"
     ]
    }
   ],
   "source": [
    "x= input('Enter a string : ')\n",
    "y = ' '\n",
    "for z in range(0,len(x)):\n",
    "    if z%2 == 0:\n",
    "        y=y+x[z].upper()\n",
    "    else:\n",
    "        y=y+x[z].lower()\n",
    "print(y)"
   ]
  },
  {
   "cell_type": "markdown",
   "id": "a83ff14a",
   "metadata": {},
   "source": [
    "## 6. Write a python program which will print True if the input number is divisible by 5 or else false "
   ]
  },
  {
   "cell_type": "code",
   "execution_count": 17,
   "id": "c4dd7714",
   "metadata": {},
   "outputs": [
    {
     "name": "stdout",
     "output_type": "stream",
     "text": [
      "Enter a number : 20\n",
      "True\n"
     ]
    }
   ],
   "source": [
    "number = int(input('Enter a number : '))\n",
    "if number%5==0:\n",
    "    print(True)\n",
    "else:\n",
    "    print(False)"
   ]
  },
  {
   "cell_type": "markdown",
   "id": "b6aedc66",
   "metadata": {},
   "source": [
    "## 7. Given two integer number returns the product only if the product is greater than 1000 ,else return their sum"
   ]
  },
  {
   "cell_type": "code",
   "execution_count": 19,
   "id": "658e2d6c",
   "metadata": {},
   "outputs": [
    {
     "name": "stdout",
     "output_type": "stream",
     "text": [
      "Enter first number : 50\n",
      "Enter second numbber : 50\n",
      "The product of 50 and 50 is 2500\n"
     ]
    }
   ],
   "source": [
    "num1 = int(input('Enter first number : '))\n",
    "num2 = int(input('Enter second numbber : '))\n",
    "result = num1*num2\n",
    "if result>1000:\n",
    "    print(\"The product of {} and {} is {}\".format(num1,num2,num1*num2))\n",
    "else:\n",
    "    print(\"The sum of two numbers {} and {} is {}\".format(num1,num2,num1+num2))"
   ]
  },
  {
   "cell_type": "markdown",
   "id": "c35a82e9",
   "metadata": {},
   "source": [
    "## 8. Given two strings x,y write a program to print a new string made of x and y's first,middle and last charactters"
   ]
  },
  {
   "cell_type": "code",
   "execution_count": 32,
   "id": "9297ee03",
   "metadata": {},
   "outputs": [
    {
     "name": "stdout",
     "output_type": "stream",
     "text": [
      "Enter a string : jasmine\n",
      "Enter a string : redroses\n",
      "jrmoes\n"
     ]
    }
   ],
   "source": [
    "x = input('Enter a string : ')\n",
    "y = input('Enter a string : ')\n",
    "x1 = len(x)//2\n",
    "y1 = len(y)//2\n",
    "print(x[0]+y[0]+x[x1]+y[y1]+x[-1]+y[-1])"
   ]
  },
  {
   "cell_type": "code",
   "execution_count": 33,
   "id": "ea725503",
   "metadata": {},
   "outputs": [
    {
     "name": "stdout",
     "output_type": "stream",
     "text": [
      "rovern\n"
     ]
    }
   ],
   "source": [
    "x = 'river'\n",
    "y = 'ocean'\n",
    "x1 = len(x)//2\n",
    "y1 = len(y)//2\n",
    "print(x[0]+y[0]+x[x1]+y[y1]+x[-1]+y[-1])"
   ]
  },
  {
   "cell_type": "markdown",
   "id": "cdc2337a",
   "metadata": {},
   "source": [
    "## 9. Write a python program to take three names as input from a user in the single input() function call"
   ]
  },
  {
   "cell_type": "code",
   "execution_count": 146,
   "id": "06dcb353",
   "metadata": {},
   "outputs": [
    {
     "name": "stdout",
     "output_type": "stream",
     "text": [
      "Enter three names divided with space:sachin dhoni raina\n",
      "Name1 :- sachin\n",
      "Name2 :- dhoni\n",
      "Name3 :- raina\n"
     ]
    }
   ],
   "source": [
    "input1 = input('Enter three names divided with space:')\n",
    "names=input1.split()\n",
    "if len(names)==3:\n",
    "    print('Name1 :- {}'.format(names[0]))\n",
    "    print('Name2 :- {}'.format(names[1]))\n",
    "    print('Name3 :- {}'.format(names[2]))\n",
    "else:\n",
    "    print('Enter three names')"
   ]
  },
  {
   "cell_type": "markdown",
   "id": "ea6753ce",
   "metadata": {},
   "source": [
    "## 10. Write a python program to get a string from a given string where all occurances of its first character havebeen changes to @ expect the first character of the string"
   ]
  },
  {
   "cell_type": "code",
   "execution_count": 66,
   "id": "d50c09d5",
   "metadata": {
    "scrolled": true
   },
   "outputs": [
    {
     "name": "stdout",
     "output_type": "stream",
     "text": [
      "Enter a string :andaman\n",
      "modified string : and@m@n\n"
     ]
    }
   ],
   "source": [
    "input_string = input('Enter a string :')\n",
    "if len(input_string)<1:\n",
    "    print('input a string')\n",
    "else:\n",
    "    char1=input_string[0]\n",
    "    newchar = char1+input_string[1:].replace(char1,'@')\n",
    "    print(\"modified string :\",newchar)"
   ]
  },
  {
   "cell_type": "markdown",
   "id": "e4486a2f",
   "metadata": {},
   "source": [
    "## 11. Write a python program to add 'ing' at the end of a given string(string length should be equal to or more than 3). If the given stirng already ends with 'ing' then add 'ly' instead.If the string length is less than 3 leave it unchanged."
   ]
  },
  {
   "cell_type": "code",
   "execution_count": 88,
   "id": "ee75ae23",
   "metadata": {},
   "outputs": [
    {
     "name": "stdout",
     "output_type": "stream",
     "text": [
      "enter string :slowing\n",
      "slowly\n"
     ]
    }
   ],
   "source": [
    "x = input('Enter a job :')\n",
    "if len(x)<3:\n",
    "    print(x)\n",
    "elif x[-1]=='g'and x[-2]=='n' and x[-3]=='i':\n",
    "    x1 = x[-3:]\n",
    "    print(x.replace(x1,'ly'))\n",
    "else:\n",
    "    print(x+'ing')"
   ]
  },
  {
   "cell_type": "markdown",
   "id": "03f7996e",
   "metadata": {},
   "source": [
    "## 12. Write a python program that accepts two inputs num1 and num2 print True if one of them is 10 or their sum is 10 otherwise print False"
   ]
  },
  {
   "cell_type": "code",
   "execution_count": 101,
   "id": "5bc801d1",
   "metadata": {},
   "outputs": [
    {
     "name": "stdout",
     "output_type": "stream",
     "text": [
      "Enter first number : 10\n",
      "Enter second number : 20\n",
      "True\n"
     ]
    }
   ],
   "source": [
    "def check_num(num1,num2):\n",
    "    return num1==10 or num2==10 or num1+num2 == 10\n",
    "num1 = int(input('Enter first number : '))\n",
    "num2 = int(input('Enter second number : '))\n",
    "print(check_num(num1,num2))\n"
   ]
  },
  {
   "cell_type": "markdown",
   "id": "5a2be7a7",
   "metadata": {},
   "source": [
    "## 13. Write a python program that accepts three inputs x,y and z print True if x*y>z otherwise False"
   ]
  },
  {
   "cell_type": "code",
   "execution_count": 106,
   "id": "09c01189",
   "metadata": {},
   "outputs": [
    {
     "name": "stdout",
     "output_type": "stream",
     "text": [
      "Enter first num : 3\n",
      "Entter second num : 4\n",
      "Enter third number : 10\n",
      "True\n"
     ]
    }
   ],
   "source": [
    "def check_x_y_z(x,y,z):\n",
    "    return x*y>z\n",
    "    \n",
    "x=int(input('Enter first num : '))\n",
    "y=int(input('Entter second num : '))\n",
    "z=int(input('Enter third number : '))\n",
    "print(check_x_y_z(x,y,z))"
   ]
  },
  {
   "cell_type": "markdown",
   "id": "d69cfdad",
   "metadata": {},
   "source": [
    "## 14. Write a python code that accepts two string inputs return True depending on whether the total number of characters in first string is equal to total number of characters in second string. "
   ]
  },
  {
   "cell_type": "code",
   "execution_count": 109,
   "id": "0122a815",
   "metadata": {},
   "outputs": [
    {
     "name": "stdout",
     "output_type": "stream",
     "text": [
      "Enter first string : python\n",
      "Enter second string : javacs\n",
      "True\n"
     ]
    }
   ],
   "source": [
    "def check_char(char1,char2):\n",
    "    return len(char1)==len(char2)\n",
    "char1=input('Enter first string : ')\n",
    "char2=input('Enter second string : ')\n",
    "print(check_char(char1,char2))\n"
   ]
  },
  {
   "cell_type": "markdown",
   "id": "08bce95b",
   "metadata": {},
   "source": [
    "## 15. Write a python program that takes a string input ,we'll say that the front is the first three characters of the string if the string length is less than three characters , the front is what ever is there , Return a new string , which is three copies of front."
   ]
  },
  {
   "cell_type": "code",
   "execution_count": 141,
   "id": "11fa6160",
   "metadata": {},
   "outputs": [
    {
     "name": "stdout",
     "output_type": "stream",
     "text": [
      "Enter a string : jupiter\n",
      "New string :  jupjupjup\n"
     ]
    }
   ],
   "source": [
    "string= input('Enter a string : ')\n",
    "def front_char(string):\n",
    "    front = string[:3]\n",
    "    if len(string)<3:\n",
    "        return(string)\n",
    "    else:\n",
    "        return(front*3)\n",
    "print('New string : ',front_char(string))\n",
    "    "
   ]
  },
  {
   "cell_type": "markdown",
   "id": "fc63c296",
   "metadata": {},
   "source": [
    "## 16. Write a python program that takes in a word and determines whether or not it is plural a plural word is one that ends with 's'."
   ]
  },
  {
   "cell_type": "code",
   "execution_count": 6,
   "id": "228d8d3b",
   "metadata": {},
   "outputs": [
    {
     "name": "stdout",
     "output_type": "stream",
     "text": [
      "Enter a word : methods\n",
      "It is plural\n"
     ]
    }
   ],
   "source": [
    "name = input('Enter a word : ')\n",
    "if name.endswith('s'):\n",
    "    print('It is plural')\n",
    "else:\n",
    "    print('It is not plural')"
   ]
  },
  {
   "cell_type": "markdown",
   "id": "c71da428",
   "metadata": {},
   "source": [
    "## 17. A bartender is writing a simple program to determine whether he should serve drinks to someone. He only serves drinks to people 18 and older and when he's not on break (True means break and False means not a break time). Givem two person's age,and whether break time is in session, crreate a python program which prints whether he should serve drinks or not."
   ]
  },
  {
   "cell_type": "code",
   "execution_count": 12,
   "id": "49e3d5ab",
   "metadata": {},
   "outputs": [
    {
     "name": "stdout",
     "output_type": "stream",
     "text": [
      "Enter age of person : 20\n",
      "Whether the bartender is in break : no\n",
      "Sorry,Service not available\n"
     ]
    }
   ],
   "source": [
    "input1 = int(input('Enter age of person : '))\n",
    "input2 =  input('Whether the bartender is in break : ')\n",
    "if input1>18 and input2 == 'yes':\n",
    "    print('Service available')\n",
    "else:\n",
    "    print('Sorry,Service not available')\n"
   ]
  },
  {
   "cell_type": "markdown",
   "id": "e620313a",
   "metadata": {},
   "source": [
    "## 18. Manoj kumar has family annd friends help him remind who is who.Given a string with a name , return the relation of that person to manoj kumar."
   ]
  },
  {
   "cell_type": "code",
   "execution_count": 4,
   "id": "9d52f5f1",
   "metadata": {},
   "outputs": [
    {
     "name": "stdout",
     "output_type": "stream",
     "text": [
      "Enter a name shiva,letha,Tarun,Kavita: SHIVA\n",
      "Shiva is father of Manoj kumar\n"
     ]
    }
   ],
   "source": [
    "Name = input('Enter a name shiva,letha,Tarun,Kavita: ')\n",
    "if Name.lower() == 'shiva':\n",
    "    print('Shiva is father of Manoj kumar')\n",
    "elif Name.lower()== 'letha':\n",
    "    print('Letha is mother of Manoj kumar')\n",
    "elif Name.lower() == 'tarun':\n",
    "    print('Tarun is brother of Manoj kumar')\n",
    "else:\n",
    "    print('Kavitha is sister of Manoj kumar')\n"
   ]
  },
  {
   "cell_type": "markdown",
   "id": "48c9e099",
   "metadata": {},
   "source": [
    "## 19. Write a python program that takes a string breaks it up and returns it with vowels first and constants next ,for any  character that is not a vowel (like special characters  or spaces) treat them as constants."
   ]
  },
  {
   "cell_type": "code",
   "execution_count": 21,
   "id": "9fb476d3",
   "metadata": {},
   "outputs": [
    {
     "name": "stdout",
     "output_type": "stream",
     "text": [
      "Enter a string : ambulance\n",
      "modified_string : auaemblnc\n"
     ]
    }
   ],
   "source": [
    "input_str = input('Enter a string : ')\n",
    "vowels = \"\"\n",
    "consonants = \"\"\n",
    "for char in input_str:\n",
    "    if char.lower() in 'aeiou':\n",
    "        vowels=vowels+char\n",
    "    else:\n",
    "        consonants=consonants+char\n",
    "print('modified_string :',vowels+consonants)"
   ]
  },
  {
   "cell_type": "markdown",
   "id": "1d481642",
   "metadata": {},
   "source": [
    "## 20. Create a dynamic calculator which asks for numbers and operators and return the answers."
   ]
  },
  {
   "cell_type": "code",
   "execution_count": 7,
   "id": "a2bd6132",
   "metadata": {},
   "outputs": [
    {
     "name": "stdout",
     "output_type": "stream",
     "text": [
      "Enter a number : 65\n",
      "Enter an operator (+ - * / % ** //) : //\n",
      "Enter a number : 3\n",
      "65 // 3 is 21\n"
     ]
    }
   ],
   "source": [
    "    num1 = int(input('Enter a number : '))\n",
    "    operator = input('Enter an operator (+ - * / % ** //) : ')\n",
    "    num2 = int(input('Enter a number : '))\n",
    "    if operator not in ['+','-','*','/','%','**','//']:\n",
    "        print('Enter proper operator')\n",
    "    elif operator == '+':\n",
    "        print(\"{} + {} is {}\".format(num1,num2,num1+num2))\n",
    "    elif operator == '-':\n",
    "        print(\"{} - {} is {}\".format(num1,num2,num1-num2))\n",
    "    elif operator == '*':\n",
    "        print(\"{} * {} is {}\".format(num1,num2,num1*num2))\n",
    "    elif operator == '//':\n",
    "        print(\"{} // {} is {}\".format(num1,num2,num1//num2))\n",
    "    elif operator == '%':\n",
    "        print(\"{} % {} is {}\".format(num1,num2,num1%num2))\n",
    "    elif operator == '**':\n",
    "        print(\"{} ** {} is {}\".format(num1,num2,num1**num2))\n",
    "    else:\n",
    "        if num2 == 0:\n",
    "            print('Cannot divide with zero')\n",
    "        else:\n",
    "            print(\"{} / {} is {}\".format(num1,num2,num1/num2))"
   ]
  },
  {
   "cell_type": "code",
   "execution_count": null,
   "id": "ee17fc6f",
   "metadata": {},
   "outputs": [],
   "source": []
  }
 ],
 "metadata": {
  "kernelspec": {
   "display_name": "Python 3 (ipykernel)",
   "language": "python",
   "name": "python3"
  },
  "language_info": {
   "codemirror_mode": {
    "name": "ipython",
    "version": 3
   },
   "file_extension": ".py",
   "mimetype": "text/x-python",
   "name": "python",
   "nbconvert_exporter": "python",
   "pygments_lexer": "ipython3",
   "version": "3.11.3"
  }
 },
 "nbformat": 4,
 "nbformat_minor": 5
}
