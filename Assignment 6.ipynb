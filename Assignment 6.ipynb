{
 "cells": [
  {
   "cell_type": "markdown",
   "id": "2e68ec7b",
   "metadata": {},
   "source": [
    "## 1. Write a python program that prints all the numbers from 0 to6 except 3 and 6."
   ]
  },
  {
   "cell_type": "code",
   "execution_count": 41,
   "id": "c9b3e9d5",
   "metadata": {},
   "outputs": [
    {
     "data": {
      "text/plain": [
       "[1, 2, 4, 5]"
      ]
     },
     "execution_count": 41,
     "metadata": {},
     "output_type": "execute_result"
    }
   ],
   "source": [
    "list(filter(lambda x : x%3!=0,range(0,6)))"
   ]
  },
  {
   "cell_type": "code",
   "execution_count": 39,
   "id": "2bac9fb0",
   "metadata": {},
   "outputs": [
    {
     "name": "stdout",
     "output_type": "stream",
     "text": [
      "0 1 2 4 5 "
     ]
    }
   ],
   "source": [
    "for num in range(0,7):\n",
    "    if num==3:\n",
    "        continue\n",
    "    elif num==6:\n",
    "        break\n",
    "    else:\n",
    "        print(num,end=' ')"
   ]
  },
  {
   "cell_type": "markdown",
   "id": "8e97cc76",
   "metadata": {},
   "source": [
    "## 2. Write a python program to accept a number from a user and calculate the sum of all numbers from 1 to a given number."
   ]
  },
  {
   "cell_type": "code",
   "execution_count": 14,
   "id": "69632be4",
   "metadata": {},
   "outputs": [
    {
     "name": "stdout",
     "output_type": "stream",
     "text": [
      "Enter a number : 5\n",
      "sum_of_numbers from 1 to 5 is 15\n"
     ]
    }
   ],
   "source": [
    "input_num = int(input('Enter a number : '))\n",
    "sum_of_numbers = 0\n",
    "for num in range(1,input_num+1):\n",
    "    sum_of_numbers += num\n",
    "print('sum_of_numbers from 1 to {} is {}'.format(input_num,sum_of_numbers))"
   ]
  },
  {
   "cell_type": "markdown",
   "id": "9d7054de",
   "metadata": {},
   "source": [
    "## 3. Write a puthon program to print multiplication table of a given input(number)"
   ]
  },
  {
   "cell_type": "code",
   "execution_count": 2,
   "id": "bb908c4b",
   "metadata": {},
   "outputs": [
    {
     "name": "stdout",
     "output_type": "stream",
     "text": [
      "Enter a number : 4\n",
      "Multiplication table of 4\n",
      "4 x 1 = 4\n",
      "4 x 2 = 8\n",
      "4 x 3 = 12\n",
      "4 x 4 = 16\n",
      "4 x 5 = 20\n",
      "4 x 6 = 24\n",
      "4 x 7 = 28\n",
      "4 x 8 = 32\n",
      "4 x 9 = 36\n",
      "4 x 10 = 40\n"
     ]
    }
   ],
   "source": [
    "number = int(input('Enter a number : '))\n",
    "print('Multiplication table of {}'.format(number))\n",
    "for x in range(1,11):\n",
    "    product = number*x\n",
    "    print('{} x {} = {}'.format(number,x,product))"
   ]
  },
  {
   "cell_type": "markdown",
   "id": "eb16b669",
   "metadata": {},
   "source": [
    "## 4. Write a program to count total number of digits in a number using while loop."
   ]
  },
  {
   "cell_type": "code",
   "execution_count": 1,
   "id": "5b2b0dbc",
   "metadata": {},
   "outputs": [
    {
     "name": "stdout",
     "output_type": "stream",
     "text": [
      "Enter a number: 2345623\n",
      "Total number of digits: 7\n"
     ]
    }
   ],
   "source": [
    "num = int(input(\"Enter a number: \"))\n",
    "count = 0\n",
    "\n",
    "while num > 0:\n",
    "    num //= 10\n",
    "    count += 1\n",
    "\n",
    "print(\"Total number of digits:\", count)\n"
   ]
  },
  {
   "cell_type": "code",
   "execution_count": 25,
   "id": "509f2b68",
   "metadata": {},
   "outputs": [],
   "source": [
    "## 13"
   ]
  },
  {
   "cell_type": "code",
   "execution_count": 33,
   "id": "6b93381b",
   "metadata": {},
   "outputs": [
    {
     "name": "stdout",
     "output_type": "stream",
     "text": [
      "The sum of numbers from 0 to 10 is 30\n"
     ]
    }
   ],
   "source": [
    "even_list = []\n",
    "for num in range(0,11):\n",
    "    if num%2 == 0:\n",
    "        even_list.append(num)\n",
    "print('The sum of numbers from 0 to 10 is {}'.format(sum(even_list)))"
   ]
  },
  {
   "cell_type": "markdown",
   "id": "d17df353",
   "metadata": {},
   "source": [
    "## 5.Write a Python program to guess a number between 1 toExample:User is prompted to enter a guess. If the user guesses wrong then the prompt appears again until the guess is correct, on successful guess, user will get a \"Well guessed!\" message,and the program will exit."
   ]
  },
  {
   "cell_type": "code",
   "execution_count": 5,
   "id": "4bfcaaa0",
   "metadata": {},
   "outputs": [
    {
     "name": "stdout",
     "output_type": "stream",
     "text": [
      "Enter a number : 1\n",
      "Try Again!\n",
      "Enter a number : 2\n",
      "Try Again!\n",
      "Enter a number : 3\n",
      "Try Again!\n",
      "Enter a number : 4\n",
      "Try Again!\n",
      "Enter a number : 5\n",
      "Well guessed!\n"
     ]
    }
   ],
   "source": [
    "\n",
    "maximum_val = 10\n",
    "guess_number = random.randint(1,maximum_val)\n",
    "\n",
    "while True:\n",
    "    guess= int(input('Enter a number : '))\n",
    "    if guess == guess_number:\n",
    "        print('Well guessed!')\n",
    "        break\n",
    "    else:\n",
    "        print('Try Again!')"
   ]
  },
  {
   "cell_type": "code",
   "execution_count": 6,
   "id": "f0517d9f",
   "metadata": {},
   "outputs": [
    {
     "name": "stdout",
     "output_type": "stream",
     "text": [
      "Enter a number : 1\n",
      "Try Again!\n",
      "Enter a number : 2\n",
      "Try Again!\n",
      "Enter a number : 3\n",
      "Try Again!\n",
      "Enter a number : 4\n",
      "Try Again!\n",
      "Enter a number : 5\n",
      "Try Again!\n",
      "Enter a number : 6\n",
      "Try Again!\n",
      "Enter a number : 7\n",
      "Well guessed!\n"
     ]
    }
   ],
   "source": [
    "import random\n",
    "maximum_val = 10\n",
    "guess_number = random.randint(1,maximum_val)\n",
    "\n",
    "while True:\n",
    "    guess= int(input('Enter a number : '))\n",
    "    if guess == guess_number:\n",
    "        print('Well guessed!')\n",
    "        break\n",
    "    else:\n",
    "        print('Try Again!')"
   ]
  },
  {
   "cell_type": "markdown",
   "id": "f9480e2e",
   "metadata": {},
   "source": [
    "## 6.Write a Python program which iterates the integers from 1 to 60. For multiples of three print \"Fizz\" instead of the number and for the multiples of five print \"Buzz\". For numbers which are multiples of both three and five print \"FizzBuzz\"."
   ]
  },
  {
   "cell_type": "code",
   "execution_count": 21,
   "id": "258dbae7",
   "metadata": {},
   "outputs": [
    {
     "name": "stdout",
     "output_type": "stream",
     "text": [
      "1\n",
      "2\n",
      "Fizz\n",
      "4\n",
      "Buzz\n",
      "Fizz\n",
      "7\n",
      "8\n",
      "Fizz\n",
      "Buzz\n",
      "11\n",
      "Fizz\n",
      "13\n",
      "14\n",
      "FizzBuzz\n",
      "16\n",
      "17\n",
      "Fizz\n",
      "19\n",
      "Buzz\n",
      "Fizz\n",
      "22\n",
      "23\n",
      "Fizz\n",
      "Buzz\n",
      "26\n",
      "Fizz\n",
      "28\n",
      "29\n",
      "FizzBuzz\n",
      "31\n",
      "32\n",
      "Fizz\n",
      "34\n",
      "Buzz\n",
      "Fizz\n",
      "37\n",
      "38\n",
      "Fizz\n",
      "Buzz\n",
      "41\n",
      "Fizz\n",
      "43\n",
      "44\n",
      "FizzBuzz\n",
      "46\n",
      "47\n",
      "Fizz\n",
      "49\n",
      "Buzz\n",
      "Fizz\n",
      "52\n",
      "53\n",
      "Fizz\n",
      "Buzz\n",
      "56\n",
      "Fizz\n",
      "58\n",
      "59\n",
      "FizzBuzz\n"
     ]
    }
   ],
   "source": [
    "for num in range(1,61):\n",
    "    if num%3==0 and num%5==0:\n",
    "        print('FizzBuzz')\n",
    "    elif num%3==0:\n",
    "         print('Fizz')\n",
    "    elif num%5==0:\n",
    "        print('Buzz')\n",
    "    else:\n",
    "        print(num)"
   ]
  },
  {
   "cell_type": "markdown",
   "id": "954f1bd2",
   "metadata": {},
   "source": [
    "## 7.Write a Python program that accepts a string and calculate the number of digits and letters."
   ]
  },
  {
   "cell_type": "code",
   "execution_count": 30,
   "id": "c193f448",
   "metadata": {},
   "outputs": [
    {
     "name": "stdout",
     "output_type": "stream",
     "text": [
      "Enter an alphanumeric_char : hello@123.8\n",
      "num_of_alphabets = 5\n",
      "num_of_digits = 4\n"
     ]
    }
   ],
   "source": [
    "input_string = input('Enter an alphanumeric_char : ')\n",
    "num_of_alphabets = 0\n",
    "num_of_digits = 0\n",
    "\n",
    "for x in input_string:\n",
    "    if x.isalpha():\n",
    "        num_of_alphabets = num_of_alphabets+1\n",
    "    elif x.isdigit():\n",
    "        num_of_digits = num_of_digits+1\n",
    "    else:\n",
    "        pass\n",
    "print('num_of_alphabets = {}'.format(num_of_alphabets))\n",
    "print('num_of_digits = {}'.format(num_of_digits))\n",
    "    "
   ]
  },
  {
   "cell_type": "markdown",
   "id": "e516429d",
   "metadata": {},
   "source": [
    "## 8.Write a Python program to check the validity of password input by users.\n",
    "Validation:\n",
    "At least 1 letter between [a-z] and 1 letter between [A-Z].\n",
    "At least 1 number between [0-9].\n",
    "At least 1 character from [$#@].\n",
    "Minimum length 6 characters.\n",
    "Maximum length 16 characters."
   ]
  },
  {
   "cell_type": "code",
   "execution_count": null,
   "id": "1cb6a1fd",
   "metadata": {},
   "outputs": [],
   "source": []
  },
  {
   "cell_type": "markdown",
   "id": "c04c3b7d",
   "metadata": {},
   "source": [
    "## 9.Write a program in Python to reverse a word by using while loop"
   ]
  },
  {
   "cell_type": "code",
   "execution_count": 31,
   "id": "e61f2f81",
   "metadata": {},
   "outputs": [
    {
     "name": "stdout",
     "output_type": "stream",
     "text": [
      "Enter a word : hello\n",
      "Reversed_word :  olleh\n"
     ]
    }
   ],
   "source": [
    "word = input('Enter a word : ')\n",
    "reversed_word = \"\"\n",
    "index = len(word)-1\n",
    "\n",
    "while index>=0:\n",
    "    reversed_word = reversed_word+word[index]\n",
    "    index = index-1\n",
    "print('Reversed_word : ',reversed_word)"
   ]
  },
  {
   "cell_type": "markdown",
   "id": "36b221b5",
   "metadata": {},
   "source": [
    "## 10.Write a program which takes 10 integers as input using loop and print their average value on the screen"
   ]
  },
  {
   "cell_type": "code",
   "execution_count": 34,
   "id": "f7af5485",
   "metadata": {},
   "outputs": [
    {
     "name": "stdout",
     "output_type": "stream",
     "text": [
      "Enter integer 1: 1\n",
      "Enter integer 2: 2\n",
      "Enter integer 3: 3\n",
      "Enter integer 4: 4\n",
      "Enter integer 5: 5\n",
      "Enter integer 6: 6\n",
      "Enter integer 7: 7\n",
      "Enter integer 8: 8\n",
      "Enter integer 9: 9\n",
      "Enter integer 10: 10\n",
      "Average value: 5.5\n"
     ]
    }
   ],
   "source": [
    "total = 0\n",
    "for i in range(10):\n",
    "    num = int(input(f\"Enter integer {i + 1}: \"))\n",
    "    total += num\n",
    "\n",
    "average = total / 10\n",
    "print(\"Average value:\", average)\n"
   ]
  },
  {
   "cell_type": "markdown",
   "id": "f95a1cbd",
   "metadata": {},
   "source": [
    "## 12.Write a Python program which will remove all digits or any other characters from the string except alphabets"
   ]
  },
  {
   "cell_type": "code",
   "execution_count": 5,
   "id": "cb8e5977",
   "metadata": {},
   "outputs": [
    {
     "name": "stdout",
     "output_type": "stream",
     "text": [
      "Enter a string : s!r@a#v$a%n&*\n",
      "Alphabet_string : sravan\n"
     ]
    }
   ],
   "source": [
    "input_str = input('Enter a string : ')\n",
    "alpha = ''\n",
    "for x in input_str:\n",
    "    if x.isalpha():\n",
    "        alpha = alpha+x\n",
    "print('Alphabet_string : {}'.format(alpha))"
   ]
  },
  {
   "cell_type": "markdown",
   "id": "59739e13",
   "metadata": {},
   "source": [
    "## 13.Write a Python program which will remove all digits or any other characters from the string except alphabets"
   ]
  },
  {
   "cell_type": "code",
   "execution_count": 35,
   "id": "d4f79c22",
   "metadata": {},
   "outputs": [
    {
     "name": "stdout",
     "output_type": "stream",
     "text": [
      "The sum of numbers from 0 to 10 is 30\n"
     ]
    }
   ],
   "source": [
    "even_list = []\n",
    "for num in range(0,11):\n",
    "    if num%2 == 0:\n",
    "        even_list.append(num)\n",
    "print('The sum of numbers from 0 to 10 is {}'.format(sum(even_list)))"
   ]
  },
  {
   "cell_type": "markdown",
   "id": "d0b4f0ff",
   "metadata": {},
   "source": [
    "## 14.Write a python program which will accept a digit and print All the numbers before it till 0"
   ]
  },
  {
   "cell_type": "code",
   "execution_count": 44,
   "id": "b779cded",
   "metadata": {},
   "outputs": [
    {
     "name": "stdout",
     "output_type": "stream",
     "text": [
      "Enter a digit: 6\n",
      "5\n",
      "4\n",
      "3\n",
      "2\n",
      "1\n",
      "0\n"
     ]
    }
   ],
   "source": [
    "digit = int(input(\"Enter a digit: \"))\n",
    "for num in range(digit-1, -1, -1):\n",
    "    print(num)\n",
    "\n"
   ]
  },
  {
   "cell_type": "markdown",
   "id": "6d443c44",
   "metadata": {},
   "source": [
    "## 15.Create a dynamic calculator which will run continually till you press \"c\""
   ]
  },
  {
   "cell_type": "code",
   "execution_count": 47,
   "id": "4acaba6d",
   "metadata": {},
   "outputs": [
    {
     "name": "stdout",
     "output_type": "stream",
     "text": [
      "Enter first  number : 2\n",
      "Enter an operator : + - * / % // +\n",
      "Enter second number : 3\n",
      "2+3=5\n",
      "Enter first  number : 1\n",
      "Enter an operator : + - * / % // 2\n",
      "Enter second number : 5\n",
      "1//5=0\n",
      "Enter first  number : 1\n",
      "Enter an operator : + - * / % // c\n",
      "Enter second number : 5\n",
      "Quitting calculator!\n"
     ]
    }
   ],
   "source": [
    "while True:\n",
    "    num1 = int(input('Enter first  number : '))\n",
    "    operator = input('Enter an operator : + - * / % // ')\n",
    "    num2 = int(input('Enter second number : '))\n",
    "    if operator == 'c':\n",
    "        print('Quitting calculator!')\n",
    "        break\n",
    "    else:\n",
    "        pass\n",
    "    if operator == '+':\n",
    "        print(\"{}+{}={}\".format(num1,num2,num1+num2))\n",
    "    elif operator == '-':\n",
    "        print(\"{}-{}={}\".format(num1,num2,num1-num2))\n",
    "    elif operator == '*':\n",
    "        print(\"{}*{}={}\".format(num1,num2,num1*num2))\n",
    "    elif operator == '/':\n",
    "        print(\"{}/{}={}\".format(num1,num2,num1/num2))\n",
    "    elif operator == '%':\n",
    "        print(\"{}%{}={}\".format(num1,num2,num1%num2))\n",
    "    else:\n",
    "        print(\"{}//{}={}\".format(num1,num2,num1//num2))\n",
    "\n"
   ]
  },
  {
   "cell_type": "code",
   "execution_count": null,
   "id": "d1154222",
   "metadata": {},
   "outputs": [],
   "source": []
  }
 ],
 "metadata": {
  "kernelspec": {
   "display_name": "Python 3 (ipykernel)",
   "language": "python",
   "name": "python3"
  },
  "language_info": {
   "codemirror_mode": {
    "name": "ipython",
    "version": 3
   },
   "file_extension": ".py",
   "mimetype": "text/x-python",
   "name": "python",
   "nbconvert_exporter": "python",
   "pygments_lexer": "ipython3",
   "version": "3.11.3"
  }
 },
 "nbformat": 4,
 "nbformat_minor": 5
}
