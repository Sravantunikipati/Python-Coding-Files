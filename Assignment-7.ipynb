{
 "cells": [
  {
   "cell_type": "markdown",
   "id": "0130d23c",
   "metadata": {},
   "source": [
    "## 1. Write a Python program to loop through all the elements in a list"
   ]
  },
  {
   "cell_type": "code",
   "execution_count": 13,
   "id": "04a3f985",
   "metadata": {},
   "outputs": [
    {
     "name": "stdout",
     "output_type": "stream",
     "text": [
      "Enter elements needed in list : 5\n",
      "Enter number 1 : 1\n",
      "Enter number 2 : 2\n",
      "Enter number 3 : 3\n",
      "Enter number 4 : 4\n",
      "Enter number 5 : 5\n",
      "1\n",
      "2\n",
      "3\n",
      "4\n",
      "5\n"
     ]
    }
   ],
   "source": [
    "num = int(input('Enter elements needed in list : '))\n",
    "num_list = []\n",
    "for x in range(num):\n",
    "    num2 = int(input('Enter number {} : '.format(x+1)))\n",
    "    num_list.append(num2)\n",
    "for y in num_list:\n",
    "    print(y)"
   ]
  },
  {
   "cell_type": "markdown",
   "id": "d99a92ae",
   "metadata": {},
   "source": [
    "## 2.Write a Python program where you will ask the users to insert elements in a list"
   ]
  },
  {
   "cell_type": "code",
   "execution_count": 2,
   "id": "959f165a",
   "metadata": {},
   "outputs": [
    {
     "name": "stdout",
     "output_type": "stream",
     "text": [
      "Enter an element : hi\n",
      "['hi']\n",
      "Enter an element : hello\n",
      "['hi', 'hello']\n",
      "Enter an element : 1\n",
      "['hi', 'hello', '1']\n",
      "Enter an element : 2\n",
      "['hi', 'hello', '1', '2']\n",
      "Enter an element : 3\n",
      "['hi', 'hello', '1', '2', '3']\n",
      "Enter an element : q\n",
      "STOP\n"
     ]
    }
   ],
   "source": [
    "user_list = []\n",
    "while True:\n",
    "    my_list = input('Enter an element : ')\n",
    "    if my_list.lower()=='q':\n",
    "        print('STOP')\n",
    "        break\n",
    "    user_list.append(my_list)\n",
    "    print(user_list)"
   ]
  },
  {
   "cell_type": "markdown",
   "id": "b40a9032",
   "metadata": {},
   "source": [
    "## 3.. Write a Python program to remove all the odd index value from a list and only even index elements should remain"
   ]
  },
  {
   "cell_type": "code",
   "execution_count": 1,
   "id": "f6be580f",
   "metadata": {},
   "outputs": [
    {
     "name": "stdout",
     "output_type": "stream",
     "text": [
      "Enter number of elements : 6\n",
      "Enter number 1 : 1\n",
      "Enter number 2 : 2\n",
      "Enter number 3 : 3\n",
      "Enter number 4 : 4\n",
      "Enter number 5 : 5\n",
      "Enter number 6 : 6\n",
      "\n",
      "Even_list : [2, 4, 6]\n"
     ]
    }
   ],
   "source": [
    "int1 = int(input('Enter number of elements needed in list : '))\n",
    "new_list = []\n",
    "for i in range((int1)):\n",
    "    num1 = int(input('Enter number {} : '.format(i+1)))\n",
    "    new_list.append(num1)\n",
    "even_list = []\n",
    "for z in new_list:\n",
    "    if z%2==0:\n",
    "        even_list.append(z)\n",
    "print()\n",
    "print('Even_list : {}'.format(even_list))"
   ]
  },
  {
   "cell_type": "markdown",
   "id": "16f70877",
   "metadata": {},
   "source": [
    "## 4.Write a Python program to sum and multiply all the items in a list"
   ]
  },
  {
   "cell_type": "code",
   "execution_count": 15,
   "id": "b2eae64c",
   "metadata": {},
   "outputs": [
    {
     "name": "stdout",
     "output_type": "stream",
     "text": [
      "Enter number of elements in list : 7\n",
      "Enter number 1 :1\n",
      "Enter number 2 :2\n",
      "Enter number 3 :3\n",
      "Enter number 4 :4\n",
      "Enter number 5 :5\n",
      "Enter number 6 :6\n",
      "Enter number 7 :7\n",
      "sum_result : 28.0\n",
      "product_result : 5040.0\n"
     ]
    }
   ],
   "source": [
    "num_list = []\n",
    "num= int(input('Enter number of elements in list : '))\n",
    "for i in range(num):\n",
    "    number = float(input(\"Enter number {} :\".format(i+1)))\n",
    "    num_list.append(number)\n",
    "    \n",
    "sum_result = 0\n",
    "product_result = 1\n",
    "\n",
    "for x in num_list:\n",
    "    sum_result = sum_result+x\n",
    "    product_result = product_result*x\n",
    "print(\"sum_result : {}\".format(sum_result))\n",
    "print(\"product_result : {}\".format(product_result))"
   ]
  },
  {
   "cell_type": "markdown",
   "id": "1cfaeea2",
   "metadata": {},
   "source": [
    "###### "
   ]
  },
  {
   "cell_type": "markdown",
   "id": "69083acd",
   "metadata": {},
   "source": [
    "## 5.Write a Python program to get the maximum and minimum numbers from a list"
   ]
  },
  {
   "cell_type": "code",
   "execution_count": 4,
   "id": "ccc4b458",
   "metadata": {},
   "outputs": [
    {
     "name": "stdout",
     "output_type": "stream",
     "text": [
      "Enter elements needed in list : 6\n",
      "enter number 1 : 12\n",
      "enter number 2 : 332\n",
      "enter number 3 : 43\n",
      "enter number 4 : 566\n",
      "enter number 5 : 23\n",
      "enter number 6 : 56\n",
      "Minumum :  12\n",
      "Maximum :  566\n"
     ]
    }
   ],
   "source": [
    "my_list = int(input('Enter elements needed in list : '))\n",
    "new_list = []\n",
    "for num in range(my_list):\n",
    "    num=int(input('enter number {} : '.format(num+1)))\n",
    "    new_list.append(num)\n",
    "for x in new_list:\n",
    "    print(\"Minumum : \",min(new_list))\n",
    "    print(\"Maximum : \",max(new_list))\n",
    "    break"
   ]
  },
  {
   "cell_type": "markdown",
   "id": "c73cdc6b",
   "metadata": {},
   "source": [
    "## 6.Write a Python program to print a specified list after removing the 0th, 4th and 5th elements."
   ]
  },
  {
   "cell_type": "code",
   "execution_count": null,
   "id": "2f1e10b5",
   "metadata": {},
   "outputs": [],
   "source": []
  },
  {
   "cell_type": "markdown",
   "id": "895228b2",
   "metadata": {},
   "source": [
    "## 7.Write a Python program to convert a list of characters into a string"
   ]
  },
  {
   "cell_type": "code",
   "execution_count": 14,
   "id": "ed91bd3a",
   "metadata": {},
   "outputs": [
    {
     "name": "stdout",
     "output_type": "stream",
     "text": [
      "Enter any elements : 11\n",
      "Enter elements 1 : H\n",
      "Enter elements 2 : e\n",
      "Enter elements 3 : l\n",
      "Enter elements 4 : l\n",
      "Enter elements 5 : o\n",
      "Enter elements 6 :  \n",
      "Enter elements 7 : w\n",
      "Enter elements 8 : o\n",
      "Enter elements 9 : r\n",
      "Enter elements 10 : l\n",
      "Enter elements 11 : d\n",
      "\n",
      "Output_str :  Hello world\n"
     ]
    }
   ],
   "source": [
    "list1 = int(input('Enter any elements : '))\n",
    "list2 = []\n",
    "for x in range(list1):\n",
    "    elem = input('Enter elements {} : '.format(x+1))\n",
    "    list2.append(elem)\n",
    "print()\n",
    "print(\"Output_str : \",\"\".join(list2))\n"
   ]
  },
  {
   "cell_type": "markdown",
   "id": "cbf47d67",
   "metadata": {},
   "source": [
    "## 8.Write a Python program to compute average of given lists."
   ]
  },
  {
   "cell_type": "code",
   "execution_count": 18,
   "id": "8b99f736",
   "metadata": {},
   "outputs": [
    {
     "name": "stdout",
     "output_type": "stream",
     "text": [
      "Enter number of elements needed in list : 10\n",
      "Enter number 1 : 12\n",
      "Enter number 2 : 234\n",
      "Enter number 3 : 54\n",
      "Enter number 4 : 57\n",
      "Enter number 5 : 84\n",
      "Enter number 6 : 31\n",
      "Enter number 7 : 27\n",
      "Enter number 8 : 77\n",
      "Enter number 9 : 98\n",
      "Enter number 10 : 33\n",
      "Average_of_list :  70.7\n"
     ]
    }
   ],
   "source": [
    "def calculate_avg(numbers):\n",
    "    total = sum(numbers)\n",
    "    average = total/len(numbers)\n",
    "    return average\n",
    "new_list = []\n",
    "int_1 = int(input('Enter number of elements needed in list : '))\n",
    "\n",
    "for x in range(int_1):\n",
    "    num1 = float(input('Enter number {} : '.format(x+1)))\n",
    "    new_list.append(num1)\n",
    "avg = calculate_avg(new_list)\n",
    "print(\"Average_of_list : \",avg)"
   ]
  },
  {
   "cell_type": "markdown",
   "id": "0884f0a6",
   "metadata": {},
   "source": [
    "## 9.Write a Python program to count integer in a given mixed list."
   ]
  },
  {
   "cell_type": "code",
   "execution_count": 22,
   "id": "0095697b",
   "metadata": {},
   "outputs": [
    {
     "name": "stdout",
     "output_type": "stream",
     "text": [
      "Total number of integers :  1\n"
     ]
    }
   ],
   "source": [
    "integer_count = 0\n",
    "mixed_list = [1,34.5,'hi','bye',12+8j]\n",
    "for item in mixed_list:\n",
    "        if type(item)==int:\n",
    "            integer_count +=1\n",
    "print('Total number of integers : ',integer_count)"
   ]
  },
  {
   "cell_type": "code",
   "execution_count": 40,
   "id": "ae7a12c7",
   "metadata": {},
   "outputs": [
    {
     "name": "stdout",
     "output_type": "stream",
     "text": [
      "Enter the number of elements in the list: 6\n",
      "Enter element 1: 1\n",
      "Enter element 2: 2\n",
      "Enter element 3: 3\n",
      "Enter element 4: hi\n",
      "Enter element 5: bye\n",
      "Enter element 6: 1.0\n",
      "The count of integers in the list is: 3\n"
     ]
    }
   ],
   "source": [
    "def count_integers(mixed_list):\n",
    "    count = 0\n",
    "    for item in mixed_list:\n",
    "        if item.isdigit():\n",
    "            count += 1\n",
    "    return count\n",
    "mixed_list = []\n",
    "n = int(input(\"Enter the number of elements in the list: \"))\n",
    "for i in range(n):\n",
    "    item =(input(f\"Enter element {i + 1}: \"))\n",
    "    mixed_list.append(item)\n",
    "int_count = count_integers(mixed_list)\n",
    "print(\"The count of integers in the list is: {}\".format(int_count))\n"
   ]
  },
  {
   "cell_type": "markdown",
   "id": "3b155929",
   "metadata": {},
   "source": [
    "## 10.Write a Python program to reverse the list "
   ]
  },
  {
   "cell_type": "code",
   "execution_count": 31,
   "id": "c2c5858b",
   "metadata": {},
   "outputs": [
    {
     "name": "stdout",
     "output_type": "stream",
     "text": [
      "['@###$', (1+8j), 10.9, 'Bye', 'hello', 10]\n"
     ]
    }
   ],
   "source": [
    "my_list = [10,'hello','Bye',10.9,1+8j,'@###$']\n",
    "print(my_list[::-1])"
   ]
  },
  {
   "cell_type": "code",
   "execution_count": 29,
   "id": "a78b5681",
   "metadata": {},
   "outputs": [
    {
     "name": "stdout",
     "output_type": "stream",
     "text": [
      "enter number of elements needed : 4\n",
      "Enter element 1 : 1\n",
      "Enter element 2 : 2\n",
      "Enter element 3 : 3\n",
      "Enter element 4 : 4\n",
      "Reversed_lst :  ['4', '3', '2', '1']\n"
     ]
    }
   ],
   "source": [
    "def rev_lst(my_lst):\n",
    "    return my_lst[::-1]\n",
    "my_lst = []\n",
    "lst1 = int(input('enter number of elements needed : '))\n",
    "for x in range(lst1):\n",
    "    lst2 = input('Enter element {} : '.format(x+1))\n",
    "    my_lst.append(lst2)\n",
    "reverse_lst = rev_lst(my_lst)\n",
    "print('Reversed_lst : ',reverse_lst)"
   ]
  },
  {
   "cell_type": "markdown",
   "id": "ae67f3b5",
   "metadata": {},
   "source": [
    "## 11.Write a Python program convert a given string to a tuple"
   ]
  },
  {
   "cell_type": "code",
   "execution_count": 33,
   "id": "2e0169d8",
   "metadata": {},
   "outputs": [
    {
     "data": {
      "text/plain": [
       "('h', 'e', 'l', 'l', 'o', ' ', 'w', 'o', 'r', 'l', 'd')"
      ]
     },
     "execution_count": 33,
     "metadata": {},
     "output_type": "execute_result"
    }
   ],
   "source": [
    "my_str = 'hello world'\n",
    "tuple(my_str)"
   ]
  },
  {
   "cell_type": "code",
   "execution_count": 35,
   "id": "b091d63e",
   "metadata": {},
   "outputs": [
    {
     "name": "stdout",
     "output_type": "stream",
     "text": [
      "Enter a string : Datascience\n",
      "('D', 'a', 't', 'a', 's', 'c', 'i', 'e', 'n', 'c', 'e')\n"
     ]
    }
   ],
   "source": [
    "my_str=(input('Enter a string : '))\n",
    "print(tuple(my_str))"
   ]
  }
 ],
 "metadata": {
  "kernelspec": {
   "display_name": "Python 3 (ipykernel)",
   "language": "python",
   "name": "python3"
  },
  "language_info": {
   "codemirror_mode": {
    "name": "ipython",
    "version": 3
   },
   "file_extension": ".py",
   "mimetype": "text/x-python",
   "name": "python",
   "nbconvert_exporter": "python",
   "pygments_lexer": "ipython3",
   "version": "3.11.3"
  }
 },
 "nbformat": 4,
 "nbformat_minor": 5
}
