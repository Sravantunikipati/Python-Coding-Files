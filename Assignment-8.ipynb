{
 "cells": [
  {
   "cell_type": "markdown",
   "id": "cdb6d53d",
   "metadata": {},
   "source": [
    "## 1.Given a list of numbers, write a python program that returns a new list which Has all duplicate elements removed. And is sorted in an increasing order.\n"
   ]
  },
  {
   "cell_type": "code",
   "execution_count": 15,
   "id": "6978397b",
   "metadata": {},
   "outputs": [
    {
     "name": "stdout",
     "output_type": "stream",
     "text": [
      "[1, 6, 12, 45, 84, 87, 23]\n"
     ]
    }
   ],
   "source": [
    "my_list = [87,23,1,45,6,23,45,87,12,84]\n",
    "new_list = set(sorted(my_list))\n",
    "\n",
    "print(list(new_list))"
   ]
  },
  {
   "cell_type": "code",
   "execution_count": 20,
   "id": "c7030364",
   "metadata": {},
   "outputs": [
    {
     "name": "stdout",
     "output_type": "stream",
     "text": [
      "Enter number of integers needed in list : 10\n",
      "Enter number 1 :12\n",
      "Enter number 2 :43\n",
      "Enter number 3 :16\n",
      "Enter number 4 :35\n",
      "Enter number 5 :12\n",
      "Enter number 6 :43\n",
      "Enter number 7 :45\n",
      "Enter number 8 :16\n",
      "Enter number 9 :12\n",
      "Enter number 10 :54\n",
      "Sorted_list : [12, 16, 35, 43, 45, 54]\n"
     ]
    }
   ],
   "source": [
    "def sorted_list(my_list):\n",
    "    unique_list = sorted(list(set(my_list)))\n",
    "    return unique_list\n",
    "new_list = int(input('Enter number of integers needed in list : '))\n",
    "my_list = []\n",
    "for x in range(new_list):\n",
    "    num = int(input('Enter number {} :'.format(x+1)))\n",
    "    my_list.append(num)\n",
    "unq_lst = sorted_list(my_list)\n",
    "print('Sorted_list : {}'.format(unq_lst))\n",
    "    "
   ]
  },
  {
   "cell_type": "markdown",
   "id": "6b8fa57f",
   "metadata": {},
   "source": [
    "## 2.Write a Python program where you will iterate over both keys and values in dictionaries"
   ]
  },
  {
   "cell_type": "code",
   "execution_count": 11,
   "id": "014a34c6",
   "metadata": {},
   "outputs": [],
   "source": [
    "my_dict = {'key1':'val1' , 'key2':'val2' , 'key3':'val3'}"
   ]
  },
  {
   "cell_type": "code",
   "execution_count": 14,
   "id": "fb782457",
   "metadata": {},
   "outputs": [
    {
     "name": "stdout",
     "output_type": "stream",
     "text": [
      "dict_items([('key1', 'val1'), ('key2', 'val2'), ('key3', 'val3')])\n"
     ]
    }
   ],
   "source": [
    "print(my_dict.items())"
   ]
  },
  {
   "cell_type": "code",
   "execution_count": 25,
   "id": "7258f184",
   "metadata": {},
   "outputs": [
    {
     "name": "stdout",
     "output_type": "stream",
     "text": [
      "Enter no of key value pair required : 3\n",
      "enter key 1 :hi\n",
      "enter value for key hi :hello\n",
      "enter key 2 :bye\n",
      "enter value for key bye :see u\n",
      "enter key 3 :1\n",
      "enter value for key 1 :32\n",
      "Dynamic_dict : {'hi': 'hello', 'bye': 'see u', '1': '32'}\n"
     ]
    }
   ],
   "source": [
    "dyn_dict = {}\n",
    "num = int(input('Enter no of key value pair required : '))\n",
    "for x in range(num):\n",
    "    keys = input('enter key {} :'.format(x+1))\n",
    "    values =input('enter value for key {} :'.format(keys))\n",
    "    dyn_dict[keys]=values\n",
    "print('Dynamic_dict : {}'.format(dyn_dict))"
   ]
  },
  {
   "cell_type": "markdown",
   "id": "5ed641ba",
   "metadata": {},
   "source": [
    "## 3.Write a Python program that takes a dictionary of student names and returns a list of student names in alphabetical order"
   ]
  },
  {
   "cell_type": "code",
   "execution_count": 29,
   "id": "39cec856",
   "metadata": {},
   "outputs": [
    {
     "name": "stdout",
     "output_type": "stream",
     "text": [
      "Enter no of key value pair required : 3\n",
      "enter key 1 : student1\n",
      "enter value for key student1 : harsha\n",
      "enter key 2 : student2\n",
      "enter value for key student2 : nobitha\n",
      "enter key 3 : student3\n",
      "enter value for key student3 : jiyaan\n",
      "list of sorted students : ['harsha', 'jiyaan', 'nobitha']\n"
     ]
    }
   ],
   "source": [
    "dyn_dict = {}\n",
    "num = int(input('Enter no of key value pair required : '))\n",
    "for x in range(num):\n",
    "    keys = input('enter key {} : '.format(x+1))\n",
    "    values =input('enter value for key {} : '.format(keys))\n",
    "    dyn_dict[keys]=values\n",
    "print(\"list of sorted students : {}\".format(sorted(list(dyn_dict.values()))))\n"
   ]
  },
  {
   "cell_type": "markdown",
   "id": "a67fb31f",
   "metadata": {},
   "source": [
    "## 4.Write a Python which returns a new list of Booleans, from a given number. Iterating through the number one digit at a time, append True if the digit is 1 and False if it is 0."
   ]
  },
  {
   "cell_type": "code",
   "execution_count": null,
   "id": "fdf40fb6",
   "metadata": {},
   "outputs": [],
   "source": []
  },
  {
   "cell_type": "markdown",
   "id": "ef55514f",
   "metadata": {},
   "source": [
    "## 5.Write a Python program where you will return a dictionary where the keys will be the character and the values will be the occurrence of the character in the string, and it should for any string inputs (dynamic)"
   ]
  },
  {
   "cell_type": "code",
   "execution_count": 69,
   "id": "42e986a0",
   "metadata": {},
   "outputs": [
    {
     "name": "stdout",
     "output_type": "stream",
     "text": [
      "Enter a string : hello world, I am chitti the robo!\n",
      "{'h': 3, 'e': 2, 'l': 3, 'o': 4, ' ': 6, 'w': 1, 'r': 2, 'd': 1, ',': 1, 'I': 1, 'a': 1, 'm': 1, 'c': 1, 'i': 2, 't': 3, 'b': 1, '!': 1}\n"
     ]
    }
   ],
   "source": [
    "def char_occurance(character):\n",
    "    char_count = {}\n",
    "    for char in character:\n",
    "        if char in char_count:\n",
    "            char_count[char] +=1\n",
    "        else:\n",
    "            char_count[char]=1\n",
    "    return char_count\n",
    "character = input('Enter a string : ')\n",
    "out_str = char_occurance(character)\n",
    "print(out_str)\n",
    "    "
   ]
  },
  {
   "cell_type": "markdown",
   "id": "86f36689",
   "metadata": {},
   "source": [
    "## 6.Given a dictionary containing the names and ages of a group of people, return the name of the oldest person\n"
   ]
  },
  {
   "cell_type": "code",
   "execution_count": 45,
   "id": "123c6256",
   "metadata": {},
   "outputs": [
    {
     "name": "stdout",
     "output_type": "stream",
     "text": [
      "Oldest_person :  Eeshwar\n"
     ]
    }
   ],
   "source": [
    "def return_old(person):\n",
    "    oldest_age = -1\n",
    "    oldest_person = None\n",
    "    for keys,values in person.items():\n",
    "        if values>oldest_age:\n",
    "            oldest_age = values\n",
    "            oldest_person = keys\n",
    "    return oldest_person\n",
    "person = {'Tharun': 34 , 'Vivek' : 33 , 'marvel' : 25 , 'Eeshwar' : 50}\n",
    "old_person = return_old(person)\n",
    "print('Oldest_person : ',old_person)"
   ]
  },
  {
   "cell_type": "markdown",
   "id": "e9301dea",
   "metadata": {},
   "source": [
    "## 7.Write a Python program to create a Rock, Paper, Scissor game, use two inputs for two players: Conditions: -Rock beats Scissors, Scissors beats Paper, Paper beats Rock."
   ]
  },
  {
   "cell_type": "code",
   "execution_count": 48,
   "id": "80265eae",
   "metadata": {},
   "outputs": [
    {
     "name": "stdout",
     "output_type": "stream",
     "text": [
      "Player 1, Enter your choice (Rock/Paper/Scissors) : scissors\n",
      "Player 2, Enter your choice (Rock/Paper/Scissors) : rock\n",
      "Player2 wins!\n"
     ]
    }
   ],
   "source": [
    "def who_is_winner(player1,player2):\n",
    "    if player1==player2:\n",
    "        print(\"Match is tied!\")\n",
    "    elif (\n",
    "        (player1=='scissors' and player2=='paper')or\n",
    "        (player1=='rock' and player2 == 'scissors')or\n",
    "        (player1 == 'paper' and player2=='rock')\n",
    "    ):\n",
    "        return \"Player1 wins!\"\n",
    "    else:\n",
    "        return \"Player2 wins!\"\n",
    "player1 = input(\"Player 1, Enter your choice (Rock/Paper/Scissors) : \").lower()\n",
    "player2 = input(\"Player 2, Enter your choice (Rock/Paper/Scissors) : \").lower()\n",
    "winner = who_is_winner(player1,player2)\n",
    "print(winner)"
   ]
  },
  {
   "cell_type": "markdown",
   "id": "5e9f323c",
   "metadata": {},
   "source": [
    "## 8.Create a program that returns a list of items that you can afford in the   store with the money you have in your wallet. Create a dictionary with items as key and price as values\n"
   ]
  },
  {
   "cell_type": "code",
   "execution_count": 67,
   "id": "27f3dcd3",
   "metadata": {},
   "outputs": [
    {
     "name": "stdout",
     "output_type": "stream",
     "text": [
      "Enter no of key values required : 5\n",
      "Enter  key 1 :            milk\n",
      "Enter a value for key 1 : 50\n",
      "Enter  key 2 :            chocolate\n",
      "Enter a value for key 2 : 100\n",
      "Enter  key 3 :            cooldrink\n",
      "Enter a value for key 3 : 60\n",
      "Enter  key 4 :            chips\n",
      "Enter a value for key 4 : 30\n",
      "Enter  key 5 :            cake\n",
      "Enter a value for key 5 : 150\n",
      "Enter your wallet balance: 100\n",
      "\n",
      "{'milk': 50, 'chocolate': 100, 'cooldrink': 60, 'chips': 30, 'cake': 150}\n",
      "\n",
      "Items you can afford: ['milk', 'chocolate', 'cooldrink', 'chips']\n"
     ]
    }
   ],
   "source": [
    "def items_you_can_afford(item_prices, wallet_balance):\n",
    "    affordable_items = []\n",
    "\n",
    "    for item, price in dynamic_dict.items():\n",
    "        if int(price) <= wallet_balance:\n",
    "            affordable_items.append(item)\n",
    "\n",
    "    return affordable_items\n",
    "dynamic_dict = {}\n",
    "num = int(input('Enter no of key values required : '))\n",
    "for x in range(num):\n",
    "    shop_items = input('Enter  key {} :            '.format(x+1))\n",
    "    values = int(input('Enter a value for key {} : '.format(x+1)))\n",
    "    dynamic_dict[shop_items]=values\n",
    "\n",
    "wallet_balance = int(input(\"Enter your wallet balance: \"))\n",
    "affordable_items_list = items_you_can_afford(shop_items, wallet_balance)\n",
    "print()\n",
    "print(dynamic_dict)\n",
    "print()\n",
    "print(\"Items you can afford:\", affordable_items_list)"
   ]
  },
  {
   "cell_type": "code",
   "execution_count": null,
   "id": "78517083",
   "metadata": {},
   "outputs": [],
   "source": [
    "9"
   ]
  }
 ],
 "metadata": {
  "kernelspec": {
   "display_name": "Python 3 (ipykernel)",
   "language": "python",
   "name": "python3"
  },
  "language_info": {
   "codemirror_mode": {
    "name": "ipython",
    "version": 3
   },
   "file_extension": ".py",
   "mimetype": "text/x-python",
   "name": "python",
   "nbconvert_exporter": "python",
   "pygments_lexer": "ipython3",
   "version": "3.11.3"
  }
 },
 "nbformat": 4,
 "nbformat_minor": 5
}
