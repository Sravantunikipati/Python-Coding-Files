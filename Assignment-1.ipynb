{
 "cells": [
  {
   "cell_type": "markdown",
   "id": "ea0aba95",
   "metadata": {},
   "source": [
    "### 1. Write a python program to convert a string into lower case."
   ]
  },
  {
   "cell_type": "code",
   "execution_count": 16,
   "id": "a0d6193f",
   "metadata": {},
   "outputs": [
    {
     "data": {
      "text/plain": [
       "'hello world'"
      ]
     },
     "execution_count": 16,
     "metadata": {},
     "output_type": "execute_result"
    }
   ],
   "source": [
    "A = 'HeLLO WOrlD'\n",
    "A.lower()"
   ]
  },
  {
   "cell_type": "markdown",
   "id": "11fe2ca5",
   "metadata": {},
   "source": [
    "### 2. Write a python program to convert only odd indexed characters to lower case."
   ]
  },
  {
   "cell_type": "code",
   "execution_count": 17,
   "id": "36848cac",
   "metadata": {},
   "outputs": [
    {
     "data": {
      "text/plain": [
       "'SrAvAn'"
      ]
     },
     "execution_count": 17,
     "metadata": {},
     "output_type": "execute_result"
    }
   ],
   "source": [
    "my_str = \"SRAVAN\"\n",
    "\n",
    "my_str[0]+my_str[1].lower()+my_str[2]+my_str[3].lower()+my_str[4]+my_str[5].lower()"
   ]
  },
  {
   "cell_type": "markdown",
   "id": "6d6d387d",
   "metadata": {},
   "source": [
    "### 3. Write a python program to convert only even indexed characters into lower case."
   ]
  },
  {
   "cell_type": "code",
   "execution_count": 18,
   "id": "2edae4a2",
   "metadata": {},
   "outputs": [
    {
     "data": {
      "text/plain": [
       "'gItHuB'"
      ]
     },
     "execution_count": 18,
     "metadata": {},
     "output_type": "execute_result"
    }
   ],
   "source": [
    "my_str = \"GITHUB\"\n",
    "\n",
    "my_str[0].lower()+my_str[1]+my_str[2].lower()+my_str[3]+my_str[4].lower()+my_str[5]"
   ]
  },
  {
   "cell_type": "markdown",
   "id": "2439852b",
   "metadata": {},
   "source": [
    "### 4. Write a python program to convert only odd indexed characters into upper case."
   ]
  },
  {
   "cell_type": "code",
   "execution_count": 19,
   "id": "fe069df5",
   "metadata": {},
   "outputs": [
    {
     "data": {
      "text/plain": [
       "'aNaLyS'"
      ]
     },
     "execution_count": 19,
     "metadata": {},
     "output_type": "execute_result"
    }
   ],
   "source": [
    "new_str = \"analyst\"\n",
    "\n",
    "new_str[0]+new_str[1].upper()+new_str[2]+new_str[3].upper()+new_str[4]+new_str[5].upper()"
   ]
  },
  {
   "cell_type": "markdown",
   "id": "9b99115e",
   "metadata": {},
   "source": [
    "### 5. Write a python program to convert only even indexed charecters to upper case."
   ]
  },
  {
   "cell_type": "code",
   "execution_count": 20,
   "id": "5a43ebc3",
   "metadata": {},
   "outputs": [
    {
     "data": {
      "text/plain": [
       "'GaNdHi'"
      ]
     },
     "execution_count": 20,
     "metadata": {},
     "output_type": "execute_result"
    }
   ],
   "source": [
    "new_str = \"gandhi\"\n",
    "\n",
    "new_str[0].upper()+new_str[1]+new_str[2].upper()+new_str[3]+new_str[4].upper()+new_str[5]"
   ]
  },
  {
   "cell_type": "markdown",
   "id": "ea48aec1",
   "metadata": {},
   "source": [
    "### 6. Write a python program where you have different variable which contains your name,sex,age,phone no,father name and mother ."
   ]
  },
  {
   "cell_type": "code",
   "execution_count": 22,
   "id": "d254d77d",
   "metadata": {},
   "outputs": [
    {
     "name": "stdout",
     "output_type": "stream",
     "text": [
      "Enter your name: Revi\n",
      "Enter your gender: male\n",
      "Enter your age: 40\n",
      "Enter your phone no: 7396069287\n",
      "Enter your father name: satya\n",
      "Enter your mother name: indira\n",
      "My name is Revi\n",
      "My gender is male\n",
      "My age is 40\n",
      "My ph_no is 7396069287\n",
      "My father name is satya\n",
      "My mother name is indira\n"
     ]
    }
   ],
   "source": [
    "Name=input(\"Enter your name: \")\n",
    "Sex=input(\"Enter your gender: \")\n",
    "Age=int(input(\"Enter your age: \"))\n",
    "Ph_no=int(input(\"Enter your phone no: \"))\n",
    "fname=input(\"Enter your father name: \")\n",
    "mname=input(\"Enter your mother name: \")\n",
    "bio_data=(\"My name is {}\\nMy gender is {}\\nMy age is {}\\nMy ph_no is {}\\nMy father name is {}\\nMy mother name is {}\".format(Name,Sex,Age,Ph_no,fname,mname))\n",
    "print(bio_data)"
   ]
  },
  {
   "cell_type": "markdown",
   "id": "82780efc",
   "metadata": {},
   "source": [
    "### 7. Write a python program to count how many times \"@\" occured."
   ]
  },
  {
   "cell_type": "code",
   "execution_count": 23,
   "id": "e4d3f9df",
   "metadata": {},
   "outputs": [
    {
     "data": {
      "text/plain": [
       "6"
      ]
     },
     "execution_count": 23,
     "metadata": {},
     "output_type": "execute_result"
    }
   ],
   "source": [
    "var = \"shi@va@12@34@hs@hj@#%%^\"\n",
    "\n",
    "var.count('@')"
   ]
  },
  {
   "cell_type": "markdown",
   "id": "179a3b0d",
   "metadata": {},
   "source": [
    "### 8. write a python program to get only names fstring\"name1.@gmail.com,name2.@gmail.com,name3.@gmail.com\"."
   ]
  },
  {
   "cell_type": "code",
   "execution_count": 24,
   "id": "a38881fd",
   "metadata": {},
   "outputs": [
    {
     "name": "stdout",
     "output_type": "stream",
     "text": [
      "name1 name2 name3\n"
     ]
    }
   ],
   "source": [
    "x = \"name1@gmail.com,name2@gmail.com,name3@gmail.com\"\n",
    "name1 = \"name1@gmail.com\"\n",
    "name2 = \"name2@gmail.com\"\n",
    "name3 = \"name3@gmail.com\"\n",
    "\n",
    "print(name1[0:5],name2[0:5],name3[0:5])\n"
   ]
  },
  {
   "cell_type": "markdown",
   "id": "4ee2d859",
   "metadata": {},
   "source": [
    "### 9. Given a string of odd length greaterthan 9,return a new string made of the middle three charecters of a given string.\n"
   ]
  },
  {
   "cell_type": "code",
   "execution_count": 25,
   "id": "37de8314",
   "metadata": {},
   "outputs": [
    {
     "data": {
      "text/plain": [
       "'Sci'"
      ]
     },
     "execution_count": 25,
     "metadata": {},
     "output_type": "execute_result"
    }
   ],
   "source": [
    "odd_str = \"DataScience\"\n",
    "\n",
    "odd_str[4:7]\n"
   ]
  },
  {
   "cell_type": "markdown",
   "id": "e534dd36",
   "metadata": {},
   "source": [
    "### 10. Write a python program to insert a 2 string in the middle of 1 string."
   ]
  },
  {
   "cell_type": "code",
   "execution_count": 26,
   "id": "8508e209",
   "metadata": {},
   "outputs": [
    {
     "data": {
      "text/plain": [
       "'Python'"
      ]
     },
     "execution_count": 26,
     "metadata": {},
     "output_type": "execute_result"
    }
   ],
   "source": [
    "my_str = \"Pyon\"\n",
    "new_str = \"th\"\n",
    "\n",
    "my_str[0:2]+new_str+my_str[2:]"
   ]
  },
  {
   "cell_type": "markdown",
   "id": "eefd267c",
   "metadata": {},
   "source": [
    "### 11. Write a program to remove vowels from the entire alphabets."
   ]
  },
  {
   "cell_type": "code",
   "execution_count": 15,
   "id": "a975e879",
   "metadata": {},
   "outputs": [
    {
     "data": {
      "text/plain": [
       "'bcdfghjklmnpqrstvwxyz'"
      ]
     },
     "execution_count": 15,
     "metadata": {},
     "output_type": "execute_result"
    }
   ],
   "source": [
    "alp = \"abcdefghijklmnopqrstuvwxyz\"\n",
    "\n",
    "# vowels = a,e,i,o,u\n",
    "\n",
    "alp[1:4]+alp[5:8]+alp[9:14]+alp[15:20]+alp[21:]\n",
    "\n"
   ]
  }
 ],
 "metadata": {
  "kernelspec": {
   "display_name": "Python 3 (ipykernel)",
   "language": "python",
   "name": "python3"
  },
  "language_info": {
   "codemirror_mode": {
    "name": "ipython",
    "version": 3
   },
   "file_extension": ".py",
   "mimetype": "text/x-python",
   "name": "python",
   "nbconvert_exporter": "python",
   "pygments_lexer": "ipython3",
   "version": "3.11.3"
  }
 },
 "nbformat": 4,
 "nbformat_minor": 5
}
