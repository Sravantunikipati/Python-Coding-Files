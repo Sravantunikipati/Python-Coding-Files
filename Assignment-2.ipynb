{
 "cells": [
  {
   "cell_type": "markdown",
   "id": "a63f2d9a",
   "metadata": {},
   "source": [
    "## Alphabets assignment - Uppercase\n"
   ]
  },
  {
   "cell_type": "code",
   "execution_count": 136,
   "id": "54b833ff",
   "metadata": {},
   "outputs": [
    {
     "name": "stdout",
     "output_type": "stream",
     "text": [
      " * * * \n",
      "*     *\n",
      "* *** *\n",
      "*     *\n",
      "*     *\n"
     ]
    }
   ],
   "source": [
    "x = 1\n",
    "while  x<=5:\n",
    "    if x == 1:\n",
    "        print(' * * * ')\n",
    "    elif x == 2 or x==4 or x==5:\n",
    "        print('*     *')\n",
    "    else:\n",
    "        print('* *** *')\n",
    "    x = x+1"
   ]
  },
  {
   "cell_type": "code",
   "execution_count": 37,
   "id": "e7d58193",
   "metadata": {},
   "outputs": [
    {
     "name": "stdout",
     "output_type": "stream",
     "text": [
      "* * * \n",
      "*    *\n",
      "* * *\n",
      "*    *\n",
      "* * * \n"
     ]
    }
   ],
   "source": [
    "x = 1\n",
    "while x<=5:\n",
    "    if x==1 or x==5:\n",
    "        print('* * * ')\n",
    "    elif x==2 or x==4:\n",
    "        print('*    *')\n",
    "    else:\n",
    "        print('* * *')\n",
    "    x = x+1"
   ]
  },
  {
   "cell_type": "code",
   "execution_count": 127,
   "id": "a8796cb5",
   "metadata": {},
   "outputs": [
    {
     "name": "stdout",
     "output_type": "stream",
     "text": [
      "  * * *\n",
      "*\n",
      "*\n",
      "*\n",
      "  * * *\n"
     ]
    }
   ],
   "source": [
    "x = 1\n",
    "while x <= 5:\n",
    "    if x == 1 or x == 5:\n",
    "        print('  * * *')\n",
    "    else:\n",
    "        print('*')\n",
    "    x = x+1"
   ]
  },
  {
   "cell_type": "code",
   "execution_count": 21,
   "id": "b89d6d9e",
   "metadata": {},
   "outputs": [
    {
     "name": "stdout",
     "output_type": "stream",
     "text": [
      "* * * \n",
      "*     *\n",
      "*     *\n",
      "*     *\n",
      "* * * \n"
     ]
    }
   ],
   "source": [
    "x = 1\n",
    "while x <= 5:\n",
    "    if x == 1 or x == 5:\n",
    "        print('* * * ')\n",
    "    elif x == 2 or x == 3:\n",
    "        print('*     *')\n",
    "    else:\n",
    "        print('*     *')\n",
    "    x = x+1"
   ]
  },
  {
   "cell_type": "code",
   "execution_count": 17,
   "id": "43133103",
   "metadata": {},
   "outputs": [
    {
     "name": "stdout",
     "output_type": "stream",
     "text": [
      "* * * *\n",
      "*\n",
      "* * * *\n",
      "*\n",
      "* * * *\n"
     ]
    }
   ],
   "source": [
    "x = 1\n",
    "while x <= 5:\n",
    "    if x == 1 or  x == 5 or x == 3:\n",
    "        print('* * * *')\n",
    "    else:\n",
    "        x == 2 or x == 4\n",
    "        print('*')\n",
    "    x = x+1"
   ]
  },
  {
   "cell_type": "code",
   "execution_count": 18,
   "id": "7f8c0ef5",
   "metadata": {},
   "outputs": [
    {
     "name": "stdout",
     "output_type": "stream",
     "text": [
      "* * * *\n",
      "*\n",
      "* * *\n",
      "*\n",
      "*\n"
     ]
    }
   ],
   "source": [
    "x = 1\n",
    "while x <= 5:\n",
    "    if x==1 :\n",
    "        print('* * * *')\n",
    "    elif x == 3 :\n",
    "        print('* * *')\n",
    "    else:\n",
    "        print('*')\n",
    "    x = x+1"
   ]
  },
  {
   "cell_type": "code",
   "execution_count": 34,
   "id": "24c26516",
   "metadata": {},
   "outputs": [
    {
     "name": "stdout",
     "output_type": "stream",
     "text": [
      " * * *\n",
      "*      \n",
      "*  ****\n",
      "*     *\n",
      " * * *\n"
     ]
    }
   ],
   "source": [
    "x = 1\n",
    "while x<=5:\n",
    "    if x == 1 or x==5:\n",
    "        print(' * * *')\n",
    "    elif x == 2 :\n",
    "        print('*      ')\n",
    "    elif x == 3:\n",
    "        print('*  ****')\n",
    "    elif x == 4:\n",
    "        print('*     *')\n",
    "    else:\n",
    "        print('*  ****')\n",
    "    x = x+1"
   ]
  },
  {
   "cell_type": "code",
   "execution_count": 37,
   "id": "95cee0dc",
   "metadata": {},
   "outputs": [
    {
     "name": "stdout",
     "output_type": "stream",
     "text": [
      "*    *\n",
      "*    *\n",
      "******\n",
      "*    *\n",
      "*    *\n"
     ]
    }
   ],
   "source": [
    "x = 1\n",
    "while x <= 5:\n",
    "    if x == 1 or x==2 or x==4 or x==5:\n",
    "        print('*    *')\n",
    "    else:\n",
    "        print('******')\n",
    "    x = x+1"
   ]
  },
  {
   "cell_type": "code",
   "execution_count": 38,
   "id": "ef6d999c",
   "metadata": {},
   "outputs": [
    {
     "name": "stdout",
     "output_type": "stream",
     "text": [
      "* * * *\n",
      "   *  \n",
      "   *  \n",
      "   *  \n",
      "* * * *\n"
     ]
    }
   ],
   "source": [
    "x = 1\n",
    "while x<=5:\n",
    "    if x == 1 or x == 5:\n",
    "        print('* * * *')\n",
    "    else:\n",
    "        print('   *  ')\n",
    "    x = x+1"
   ]
  },
  {
   "cell_type": "code",
   "execution_count": 45,
   "id": "aeac94b6",
   "metadata": {},
   "outputs": [
    {
     "name": "stdout",
     "output_type": "stream",
     "text": [
      "* * * *\n",
      "      *\n",
      "      *\n",
      "*     *\n",
      " *  * \n"
     ]
    }
   ],
   "source": [
    "x = 1\n",
    "while x <=5:\n",
    "    if x == 1:\n",
    "        print('* * * *')\n",
    "    elif x==2 or x==3 :\n",
    "        print('      *')\n",
    "    elif x == 4:\n",
    "        print('*     *')\n",
    "    else:\n",
    "        print(' *  * ')\n",
    "    x = x+1"
   ]
  },
  {
   "cell_type": "code",
   "execution_count": 46,
   "id": "7d3bf4f8",
   "metadata": {},
   "outputs": [
    {
     "name": "stdout",
     "output_type": "stream",
     "text": [
      "*    *\n",
      "*  *\n",
      "* *\n",
      "*  *\n",
      "*    *\n"
     ]
    }
   ],
   "source": [
    "x = 1\n",
    "while x<=5:\n",
    "    if x == 1 or x == 5:\n",
    "        print('*    *')\n",
    "    elif x == 2 or x == 4:\n",
    "        print('*  *')\n",
    "    else :\n",
    "        print('* *')\n",
    "    x = x+1"
   ]
  },
  {
   "cell_type": "code",
   "execution_count": 47,
   "id": "610ce752",
   "metadata": {},
   "outputs": [
    {
     "name": "stdout",
     "output_type": "stream",
     "text": [
      "*\n",
      "*\n",
      "*\n",
      "*\n",
      "* * * *\n"
     ]
    }
   ],
   "source": [
    "x = 1\n",
    "while x<=5:\n",
    "    if x==1 or x==2 or x==3 or x==4:\n",
    "        print('*')\n",
    "    else:\n",
    "        print('* * * *')\n",
    "    x = x+1"
   ]
  },
  {
   "cell_type": "code",
   "execution_count": 133,
   "id": "610af95b",
   "metadata": {},
   "outputs": [
    {
     "name": "stdout",
     "output_type": "stream",
     "text": [
      "*       *\n",
      "* *   * *\n",
      "*   *   *\n",
      "*       *\n",
      "*       *\n"
     ]
    }
   ],
   "source": [
    "x = 1\n",
    "while x<=5:\n",
    "    if x==1:\n",
    "        print('*       *')\n",
    "    elif x==2:\n",
    "        print('* *   * *')\n",
    "    elif x==3:\n",
    "        print('*   *   *')\n",
    "    else:\n",
    "        print('*       *')\n",
    "    x = x+1"
   ]
  },
  {
   "cell_type": "code",
   "execution_count": 50,
   "id": "654bb7ea",
   "metadata": {},
   "outputs": [
    {
     "name": "stdout",
     "output_type": "stream",
     "text": [
      "*       *\n",
      "* *     *\n",
      "*   *   *\n",
      "*     * *\n",
      "*       *\n"
     ]
    }
   ],
   "source": [
    "x = 1\n",
    "while x<=5:\n",
    "    if x==1 or x==5:\n",
    "        print('*       *')\n",
    "    elif x==2:\n",
    "        print('* *     *')\n",
    "    elif x==3:\n",
    "        print('*   *   *')\n",
    "    elif x==4 :\n",
    "        print('*     * *')\n",
    "    else:\n",
    "        print('*       *')\n",
    "    x=x+1"
   ]
  },
  {
   "cell_type": "code",
   "execution_count": 61,
   "id": "0d604c00",
   "metadata": {},
   "outputs": [
    {
     "name": "stdout",
     "output_type": "stream",
     "text": [
      " * * * \n",
      "*      *\n",
      "*      *\n",
      "*      *\n",
      " * * * \n"
     ]
    }
   ],
   "source": [
    "x = 1\n",
    "while x<=5:\n",
    "    if x == 1 or x==5:\n",
    "        print(' * * * ')\n",
    "    elif x==2 or x==4:\n",
    "        print('*      *')\n",
    "    else:\n",
    "        print('*      *')\n",
    "    x=x+1"
   ]
  },
  {
   "cell_type": "code",
   "execution_count": 63,
   "id": "bea94b78",
   "metadata": {},
   "outputs": [
    {
     "name": "stdout",
     "output_type": "stream",
     "text": [
      "* * * *\n",
      "*      *\n",
      "* * * *\n",
      "*\n",
      "*\n"
     ]
    }
   ],
   "source": [
    "x = 1\n",
    "while x<=5:\n",
    "    if x==1 or x==3:\n",
    "        print('* * * *')\n",
    "    elif x == 2:\n",
    "        print('*      *')\n",
    "    else:\n",
    "        print('*')\n",
    "    x= x+1"
   ]
  },
  {
   "cell_type": "code",
   "execution_count": 70,
   "id": "6fe00048",
   "metadata": {},
   "outputs": [
    {
     "name": "stdout",
     "output_type": "stream",
     "text": [
      " * * * \n",
      "*      *\n",
      "*      *\n",
      "*   *  *\n",
      " * * *  *\n"
     ]
    }
   ],
   "source": [
    "x = 1\n",
    "while x<=5:\n",
    "    if x == 1 :\n",
    "        print(' * * * ')\n",
    "    elif x==2 :\n",
    "        print('*      *')\n",
    "    elif x==4:\n",
    "        print('*   *  *')\n",
    "    elif x==5:\n",
    "        print(' * * *  *')\n",
    "    else:\n",
    "        print('*      *')\n",
    "    x=x+1"
   ]
  },
  {
   "cell_type": "code",
   "execution_count": 76,
   "id": "82e0b3f0",
   "metadata": {},
   "outputs": [
    {
     "name": "stdout",
     "output_type": "stream",
     "text": [
      "* * *  \n",
      "*    *\n",
      "* * *\n",
      "*    *\n",
      "*     *\n"
     ]
    }
   ],
   "source": [
    "x= 1\n",
    "while x<=5:\n",
    "    if x==1:\n",
    "        print('* * *  ')\n",
    "    elif x==2:\n",
    "        print('*    *')\n",
    "    elif x==3:\n",
    "        print('* * *')\n",
    "    elif x==4:\n",
    "        print('*    *')\n",
    "    else:\n",
    "        print('*     *')\n",
    "    x=x+1"
   ]
  },
  {
   "cell_type": "code",
   "execution_count": 87,
   "id": "db0e07b0",
   "metadata": {},
   "outputs": [
    {
     "name": "stdout",
     "output_type": "stream",
     "text": [
      " * * * *\n",
      "*     \n",
      "* * * *\n",
      "       *\n",
      "* * * *\n"
     ]
    }
   ],
   "source": [
    "x = 1\n",
    "while x<=5:\n",
    "    if x==1:\n",
    "        print(' * * * *')\n",
    "    elif x==2:\n",
    "        print('*     ')\n",
    "    elif x==4:\n",
    "        print('       *')\n",
    "    else:\n",
    "        print('* * * *')\n",
    "    x = x+1"
   ]
  },
  {
   "cell_type": "code",
   "execution_count": 88,
   "id": "b302a4d2",
   "metadata": {},
   "outputs": [
    {
     "name": "stdout",
     "output_type": "stream",
     "text": [
      "* * * *\n",
      "   *   \n",
      "   *   \n",
      "   *   \n",
      "   *   \n"
     ]
    }
   ],
   "source": [
    "x = 1\n",
    "while x<=5:\n",
    "    if x==1:\n",
    "        print('* * * *')\n",
    "    else:\n",
    "        print('   *   ')\n",
    "    x+=1"
   ]
  },
  {
   "cell_type": "code",
   "execution_count": 99,
   "id": "15f28b86",
   "metadata": {},
   "outputs": [
    {
     "name": "stdout",
     "output_type": "stream",
     "text": [
      "*        *\n",
      "*        *\n",
      "*        *\n",
      "*        *\n",
      " *  *  * \n"
     ]
    }
   ],
   "source": [
    "x = 1\n",
    "while x<=5:\n",
    "    if x==1 or x==2 or x==3 or x==4:\n",
    "        print('*        *')\n",
    "    else:\n",
    "        print(' *  *  * ')\n",
    "    \n",
    "    x = x+1"
   ]
  },
  {
   "cell_type": "code",
   "execution_count": 134,
   "id": "04458c27",
   "metadata": {},
   "outputs": [
    {
     "name": "stdout",
     "output_type": "stream",
     "text": [
      "*           *\n",
      " *         *\n",
      "  *       * \n",
      "    *    *  \n",
      "       *   \n"
     ]
    }
   ],
   "source": [
    "x=1\n",
    "while x<=5:\n",
    "    if x==1:\n",
    "        print('*           *')\n",
    "    elif x==2:\n",
    "        print(' *         *')\n",
    "    elif x==3:\n",
    "        print('  *       * ')\n",
    "    elif x==4:\n",
    "        print('    *    *  ')\n",
    "    else:\n",
    "        print('       *   ')\n",
    "    x=x+1"
   ]
  },
  {
   "cell_type": "code",
   "execution_count": 117,
   "id": "d0688394",
   "metadata": {},
   "outputs": [
    {
     "name": "stdout",
     "output_type": "stream",
     "text": [
      "*       *\n",
      "*       *\n",
      "*   *   *\n",
      "* *   * *\n",
      "*       *\n"
     ]
    }
   ],
   "source": [
    "x = 1\n",
    "while x<=5:\n",
    "    if x==1 or x==2:\n",
    "        print('*       *')\n",
    "    elif x == 3:\n",
    "        print('*   *   *')\n",
    "    elif x==4:\n",
    "        print('* *   * *')\n",
    "    else:\n",
    "        print('*       *')\n",
    "    x = x+1"
   ]
  },
  {
   "cell_type": "code",
   "execution_count": 123,
   "id": "f249e855",
   "metadata": {},
   "outputs": [
    {
     "name": "stdout",
     "output_type": "stream",
     "text": [
      "*       *\n",
      "  *   *  \n",
      "    *   \n",
      "  *   *  \n",
      "*       *\n"
     ]
    }
   ],
   "source": [
    "x = 1\n",
    "while x<=5:\n",
    "    if x==1 or x==5:\n",
    "        print('*       *')\n",
    "    elif x==2 or x==4:\n",
    "        print('  *   *  ')\n",
    "    else :\n",
    "        print ('    *   ')\n",
    "    x+=1"
   ]
  },
  {
   "cell_type": "code",
   "execution_count": 124,
   "id": "a6bcd3ab",
   "metadata": {},
   "outputs": [
    {
     "name": "stdout",
     "output_type": "stream",
     "text": [
      "*       *\n",
      "  *   *  \n",
      "    *    \n",
      "    *    \n",
      "    *    \n"
     ]
    }
   ],
   "source": [
    "x = 1\n",
    "while x<=5:\n",
    "    if x==1:\n",
    "        print('*       *')\n",
    "\n",
    "    elif x==2:\n",
    "        print('  *   *  ')\n",
    "    else:\n",
    "        print('    *    ')\n",
    "    x = x+1"
   ]
  },
  {
   "cell_type": "code",
   "execution_count": 126,
   "id": "828890ed",
   "metadata": {},
   "outputs": [
    {
     "name": "stdout",
     "output_type": "stream",
     "text": [
      "* * * *\n",
      "     *  \n",
      "   *   \n",
      " *     \n",
      "* * * *\n"
     ]
    }
   ],
   "source": [
    "x = 1\n",
    "while x<=5:\n",
    "    if x==1 or x==5:\n",
    "        print('* * * *')\n",
    "    elif x==2:\n",
    "        print('     *  ')\n",
    "    elif x==3:\n",
    "        print('   *   ')\n",
    "    else:\n",
    "        print(' *     ')\n",
    "    x=x+1\n",
    "    "
   ]
  }
 ],
 "metadata": {
  "kernelspec": {
   "display_name": "Python 3 (ipykernel)",
   "language": "python",
   "name": "python3"
  },
  "language_info": {
   "codemirror_mode": {
    "name": "ipython",
    "version": 3
   },
   "file_extension": ".py",
   "mimetype": "text/x-python",
   "name": "python",
   "nbconvert_exporter": "python",
   "pygments_lexer": "ipython3",
   "version": "3.11.3"
  }
 },
 "nbformat": 4,
 "nbformat_minor": 5
}
