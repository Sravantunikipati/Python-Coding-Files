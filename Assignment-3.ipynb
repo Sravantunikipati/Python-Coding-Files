{
 "cells": [
  {
   "cell_type": "markdown",
   "id": "8ca6983f",
   "metadata": {},
   "source": [
    "## Create a python program to print lower & upper case alphabets with looping concepts (while loop and for loop)\n"
   ]
  },
  {
   "cell_type": "code",
   "execution_count": 16,
   "id": "d5c9de04",
   "metadata": {},
   "outputs": [
    {
     "name": "stdout",
     "output_type": "stream",
     "text": [
      "Lower case alphabets :\n",
      "a b c d e f g h i j k l m n o p q r s t u v w x y z \n",
      "\n",
      "Upper case alphabets :\n",
      "A B C D E F G H I J K L M N O P Q R S T U V W X Y Z "
     ]
    }
   ],
   "source": [
    "print('Lower case alphabets :')\n",
    "for lower_case in range(ord('a'),ord('z')+1):\n",
    "     print(chr(lower_case),end= ' ')\n",
    "print()        \n",
    "print('\\nUpper case alphabets :')\n",
    "for upper_case in range(ord('A'),ord('Z')+1):\n",
    "    print(chr(upper_case),end=\" \")"
   ]
  },
  {
   "cell_type": "code",
   "execution_count": 23,
   "id": "e1d92125",
   "metadata": {},
   "outputs": [
    {
     "name": "stdout",
     "output_type": "stream",
     "text": [
      "Lower case alphabets :\n",
      "a b c d e f g h i j k l m n o p q r s t u v w x y z \n",
      "\n",
      "Upper case alphabets :\n",
      "A B C D E F G H I J K L M N O P Q R S T U V W X Y Z \n"
     ]
    }
   ],
   "source": [
    "print('Lower case alphabets :')\n",
    "lower_case = 'a'\n",
    "while lower_case <= 'z':\n",
    "    print(lower_case,end =\" \")\n",
    "    lower_case = (chr(ord(lower_case)+1))\n",
    "print()\n",
    "\n",
    "print('\\nUpper case alphabets :')\n",
    "upper_case = 'A'\n",
    "while upper_case<='Z':\n",
    "    print(upper_case,end= \" \")\n",
    "    upper_case = (chr(ord(upper_case)+1))\n",
    "print()"
   ]
  },
  {
   "cell_type": "code",
   "execution_count": null,
   "id": "dc3031a1",
   "metadata": {},
   "outputs": [],
   "source": []
  }
 ],
 "metadata": {
  "kernelspec": {
   "display_name": "Python 3 (ipykernel)",
   "language": "python",
   "name": "python3"
  },
  "language_info": {
   "codemirror_mode": {
    "name": "ipython",
    "version": 3
   },
   "file_extension": ".py",
   "mimetype": "text/x-python",
   "name": "python",
   "nbconvert_exporter": "python",
   "pygments_lexer": "ipython3",
   "version": "3.11.3"
  }
 },
 "nbformat": 4,
 "nbformat_minor": 5
}
